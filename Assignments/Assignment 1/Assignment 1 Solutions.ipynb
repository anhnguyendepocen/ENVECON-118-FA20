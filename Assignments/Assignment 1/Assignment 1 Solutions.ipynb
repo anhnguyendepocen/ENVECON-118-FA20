{
 "cells": [
  {
   "cell_type": "markdown",
   "metadata": {},
   "source": [
    "# ENV ECON 118 / IAS 118 - Introductory Applied Econometrics Assignment 1\n",
    "\n",
    "## Fall 2019"
   ]
  },
  {
   "cell_type": "markdown",
   "metadata": {},
   "source": [
    "There is a large literature in macroeconomics that investigates why there exist such large differences in gross domestic product (GDP) per worker between developed and developing countries. Recently economists have focused on the role of agriculture in accounting for these differences (Restuccia et al. 2008, _Journal of Monetary Economics_ ). Why might agriculture be important? Consider two facts, which we will explore in greater detail below. First, labor productivity of the richest countries in agriculture is 78 times that of the poorest countries. Second, the poorest countries allocate 86% of their employment to this sector, as compared to only 4% in the richest countries."
   ]
  },
  {
   "cell_type": "markdown",
   "metadata": {},
   "source": [
    "<p style=\"text-align: center;\"> Figure 1. </p>\n",
    "\n",
    "<img src=\"fig1.png\" width=\"400\" />"
   ]
  },
  {
   "cell_type": "markdown",
   "metadata": {},
   "source": [
    "<p style=\"text-align: center;\"> Figure 2. </p>\n",
    "\n",
    "<img src=\"fig2.png\" width=\"400\" />"
   ]
  },
  {
   "cell_type": "markdown",
   "metadata": {},
   "source": [
    "\n",
    "\n",
    "The data is from the World Bank development indicators on Labor Productivity in Agriculture, and GDP per capita (http://data.worldbank.org/data-catalog/world-development-indicators) for 2019. Labor productivity in Agriculture is measured as the output of the agricultural sector less the value of intermediate inputs, divided by the number of workers. It is measured in thousands of US $ \\$ $. GDP per capita is gross domestic product divided by midyear population, and is measured in thousands of US $ \\$ $. The graphs below contain all 94 countries in the original dataset which have data on Labor Productivity in Agriculture, Agricultural Employment and GDP per capita. The values for selected countries can be found in Tables 1, 2 and 3."
   ]
  },
  {
   "cell_type": "markdown",
   "metadata": {},
   "source": [
    "# Exercise 1. Relationship between GDP per capita and Labor Productivity in Agriculture\n",
    "\n",
    "As you see on the first graph, there appears to be some association between GDP per capita and Labor\n",
    "Productivity in Agriculture.\n",
    "We will establish a simple linear relationship on a (very small) subset of 5 countries."
   ]
  },
  {
   "cell_type": "markdown",
   "metadata": {},
   "source": [
    "(a) Use R to create the scatter diagram of these observations. "
   ]
  },
  {
   "cell_type": "markdown",
   "metadata": {},
   "source": [
    "a-Step 1: Load the .csv file called countries1.csv. (Hint: the `read.csv()` command will likely be helpful.)"
   ]
  },
  {
   "cell_type": "code",
   "execution_count": 1,
   "metadata": {},
   "outputs": [],
   "source": [
    "pset1<-read.csv(\"countries1.csv\")\n"
   ]
  },
  {
   "cell_type": "markdown",
   "metadata": {},
   "source": [
    "a-Step 2: Look at the data. This dataset only has 5 rows so you can just call the entire dataset. In general you want to use the `head()` command so that R does not print the entire dataset which will take way too many pages."
   ]
  },
  {
   "cell_type": "code",
   "execution_count": 2,
   "metadata": {},
   "outputs": [
    {
     "data": {
      "text/html": [
       "<table>\n",
       "<caption>A data.frame: 5 × 3</caption>\n",
       "<thead>\n",
       "\t<tr><th></th><th scope=col>ï..</th><th scope=col>gdp_pc_1000USD</th><th scope=col>lapor_prod_1000USD</th></tr>\n",
       "\t<tr><th></th><th scope=col>&lt;fct&gt;</th><th scope=col>&lt;dbl&gt;</th><th scope=col>&lt;dbl&gt;</th></tr>\n",
       "</thead>\n",
       "<tbody>\n",
       "\t<tr><th scope=row>1</th><td>Algeria    </td><td> 4.7105838</td><td>19.8005575</td></tr>\n",
       "\t<tr><th scope=row>2</th><td>Canada     </td><td>51.5887614</td><td>99.7083740</td></tr>\n",
       "\t<tr><th scope=row>3</th><td>Malawi     </td><td> 0.5236035</td><td> 0.7692204</td></tr>\n",
       "\t<tr><th scope=row>4</th><td>Philippines</td><td> 3.3376820</td><td> 3.3199395</td></tr>\n",
       "\t<tr><th scope=row>5</th><td>Uruguay    </td><td>14.5973081</td><td>24.8528593</td></tr>\n",
       "</tbody>\n",
       "</table>\n"
      ],
      "text/latex": [
       "A data.frame: 5 × 3\n",
       "\\begin{tabular}{r|lll}\n",
       "  & ï.. & gdp\\_pc\\_1000USD & lapor\\_prod\\_1000USD\\\\\n",
       "  & <fct> & <dbl> & <dbl>\\\\\n",
       "\\hline\n",
       "\t1 & Algeria     &  4.7105838 & 19.8005575\\\\\n",
       "\t2 & Canada      & 51.5887614 & 99.7083740\\\\\n",
       "\t3 & Malawi      &  0.5236035 &  0.7692204\\\\\n",
       "\t4 & Philippines &  3.3376820 &  3.3199395\\\\\n",
       "\t5 & Uruguay     & 14.5973081 & 24.8528593\\\\\n",
       "\\end{tabular}\n"
      ],
      "text/markdown": [
       "\n",
       "A data.frame: 5 × 3\n",
       "\n",
       "| <!--/--> | ï.. &lt;fct&gt; | gdp_pc_1000USD &lt;dbl&gt; | lapor_prod_1000USD &lt;dbl&gt; |\n",
       "|---|---|---|---|\n",
       "| 1 | Algeria     |  4.7105838 | 19.8005575 |\n",
       "| 2 | Canada      | 51.5887614 | 99.7083740 |\n",
       "| 3 | Malawi      |  0.5236035 |  0.7692204 |\n",
       "| 4 | Philippines |  3.3376820 |  3.3199395 |\n",
       "| 5 | Uruguay     | 14.5973081 | 24.8528593 |\n",
       "\n"
      ],
      "text/plain": [
       "  ï..         gdp_pc_1000USD lapor_prod_1000USD\n",
       "1 Algeria      4.7105838     19.8005575        \n",
       "2 Canada      51.5887614     99.7083740        \n",
       "3 Malawi       0.5236035      0.7692204        \n",
       "4 Philippines  3.3376820      3.3199395        \n",
       "5 Uruguay     14.5973081     24.8528593        "
      ]
     },
     "metadata": {},
     "output_type": "display_data"
    }
   ],
   "source": [
    "head(pset1)"
   ]
  },
  {
   "cell_type": "markdown",
   "metadata": {},
   "source": [
    "a-Step 3: Rename the variables to \"country\", \"gdp_pc\", and \"labor_prod\". (Hint: the `colnames()` command may be useful. Also remember that to select multiple values (such as mulitple variable names, you can use R's vector notation `c()`. For example: `c(\"country\", \"gdp_pc\", \"labor_prod\")`."
   ]
  },
  {
   "cell_type": "code",
   "execution_count": 3,
   "metadata": {},
   "outputs": [],
   "source": [
    "colnames(pset1)<-c(\"country\", \"gdp_pc\", \"labor_prod\")"
   ]
  },
  {
   "cell_type": "markdown",
   "metadata": {},
   "source": [
    "a-Step 4: Create a scatterplot of the data. Don't forget to (1) label the axes and their\n",
    "units, and (2) title your graph. (Hint: the `plot()` command will likely come in handy.)"
   ]
  },
  {
   "cell_type": "code",
   "execution_count": 4,
   "metadata": {},
   "outputs": [
    {
     "data": {
      "image/png": "[encoded data removed]",
      "text/plain": [
       "Plot with title \"Labor Productivity in Agriculture and GDP per capita\""
      ]
     },
     "metadata": {
      "image/png": {
       "height": 420,
       "width": 420
      }
     },
     "output_type": "display_data"
    }
   ],
   "source": [
    "plot(pset1$gdp_pc, pset1$labor_prod, main=\"Labor Productivity in Agriculture and GDP per capita\", xlab=\"GDP per capita (US$1000)\", ylab=\"Labor Productivity in Agriculture (US$1000)\")"
   ]
  },
  {
   "cell_type": "markdown",
   "metadata": {},
   "source": [
    "b)\n",
    "Estimate the linear relationship between GDP per capita and Labor\n",
    "Productivity in Agriculture (E) by OLS, showing all intermediate calculations as we did in the handout.\n",
    "For this exercise,  **DO NOT** use the built-in R commands like `cov()` or `lm()`. Use basic mathematical commands (`+`, `-`, `*`, `\\`, `sum()`, `^`) to reproduce all the values from table and show all the steps.\n",
    "\n",
    "$$\\widehat{E} = \\hat{\\beta}_0 + \\hat{\\beta}_1GDP / cap$$"
   ]
  },
  {
   "cell_type": "markdown",
   "metadata": {},
   "source": [
    "b-Step 5: Create new data objects called  \"mean_gdp_pc\" and \"mean_labor_prod: equal to the mean of gdp_pc and labor_prod."
   ]
  },
  {
   "cell_type": "code",
   "execution_count": 5,
   "metadata": {},
   "outputs": [],
   "source": [
    "mean_gdp_pc<-mean(pset1$gdp_pc)\n",
    "mean_labor_prod<-mean(pset1$labor_prod)"
   ]
  },
  {
   "cell_type": "markdown",
   "metadata": {},
   "source": [
    "b-Step 6: Calculate the covariance (only using the mathematical operations specified above) between gdp_pc and labor_prod. Do this by first creating two new columns: devgdp, a column that subtracts the mean_gdp_pc from gdp_pc and devlp that subtracts the mean_labor_prod from labor_prod. \n",
    "Next create a column devgdplp which is equal to devlp multiplied by devgdp.\n",
    "Finally, generate a value named \"covar\" which is equal to the sum of devgdplp divided by n-1.\n",
    "Make sure to call covar at the end so we can see it printed in the output.\n"
   ]
  },
  {
   "cell_type": "code",
   "execution_count": 6,
   "metadata": {},
   "outputs": [
    {
     "data": {
      "text/html": [
       "847.948699934533"
      ],
      "text/latex": [
       "847.948699934533"
      ],
      "text/markdown": [
       "847.948699934533"
      ],
      "text/plain": [
       "[1] 847.9487"
      ]
     },
     "metadata": {},
     "output_type": "display_data"
    }
   ],
   "source": [
    "pset1$devgdp<-pset1$gdp_pc-mean_gdp_pc\n",
    "pset1$devlp<-pset1$labor_prod-mean_labor_prod\n",
    "pset1$devgdplp<-pset1$devgdp*pset1$devlp\n",
    "\n",
    "covar<-sum(pset1$devgdplp)/4\n",
    "covar"
   ]
  },
  {
   "cell_type": "markdown",
   "metadata": {},
   "source": [
    "b-Step 7: Calculate the variance. First generate a column sqdev equal to the square of devgdp. Generate a value named \"var\": which is equal to the sum of sqdevgdp divided by n-1. Make sure to call var at the end so we can see it printed in the output.\n"
   ]
  },
  {
   "cell_type": "code",
   "execution_count": 7,
   "metadata": {},
   "outputs": [
    {
     "data": {
      "text/html": [
       "447.583927494996"
      ],
      "text/latex": [
       "447.583927494996"
      ],
      "text/markdown": [
       "447.583927494996"
      ],
      "text/plain": [
       "[1] 447.5839"
      ]
     },
     "metadata": {},
     "output_type": "display_data"
    }
   ],
   "source": [
    "pset1$sqdev<-pset1$devgdp^2\n",
    "\n",
    "var<-sum(pset1$sqdev)/4\n",
    "var"
   ]
  },
  {
   "cell_type": "markdown",
   "metadata": {},
   "source": [
    "b-Step 8: Using the quantities generated above, generate and print beta_1 and beta_0, your estimates for $\\hat{\\beta}_0$ and $\\hat{\\beta}_1$."
   ]
  },
  {
   "cell_type": "code",
   "execution_count": 8,
   "metadata": {},
   "outputs": [
    {
     "data": {
      "text/html": [
       "1.89450212093242"
      ],
      "text/latex": [
       "1.89450212093242"
      ],
      "text/markdown": [
       "1.89450212093242"
      ],
      "text/plain": [
       "[1] 1.894502"
      ]
     },
     "metadata": {},
     "output_type": "display_data"
    },
    {
     "data": {
      "text/html": [
       "1.36437543542417"
      ],
      "text/latex": [
       "1.36437543542417"
      ],
      "text/markdown": [
       "1.36437543542417"
      ],
      "text/plain": [
       "[1] 1.364375"
      ]
     },
     "metadata": {},
     "output_type": "display_data"
    }
   ],
   "source": [
    "beta_1<-covar/var\n",
    "beta_1\n",
    "\n",
    "\n",
    "beta_0<-mean_labor_prod-(beta_1*mean_gdp_pc)\n",
    "beta_0"
   ]
  },
  {
   "cell_type": "markdown",
   "metadata": {},
   "source": [
    "c) Interpret the value of the estimated parameters $\\hat{\\beta}_0$ and $\\hat{\\beta}_1$"
   ]
  },
  {
   "cell_type": "markdown",
   "metadata": {},
   "source": [
    "As GDP per capita rises by \\\\$1,000, labor productivity increases by \\\\$1,894. At a GDP per capita value of zero, our model predicts labor productivity in agriculture of \\\\$1,364. "
   ]
  },
  {
   "cell_type": "markdown",
   "metadata": {},
   "source": [
    "d) In your data frame, compute the fitted value and the residual for each observation, and verify that the residuals\n",
    "(approximately) sum to 0. Use only basic mathematical commands (`+`, `-`, `*`, `\\`, `sum()`, `^`) to do this. Create a new column named \"fitted\" and another new column called \"residuals\". Call the head() of your dataset so we can see these new columns."
   ]
  },
  {
   "cell_type": "code",
   "execution_count": 9,
   "metadata": {},
   "outputs": [
    {
     "data": {
      "text/html": [
       "-1.77635683940025e-14"
      ],
      "text/latex": [
       "-1.77635683940025e-14"
      ],
      "text/markdown": [
       "-1.77635683940025e-14"
      ],
      "text/plain": [
       "[1] -1.776357e-14"
      ]
     },
     "metadata": {},
     "output_type": "display_data"
    },
    {
     "data": {
      "text/html": [
       "<table>\n",
       "<caption>A data.frame: 5 × 9</caption>\n",
       "<thead>\n",
       "\t<tr><th></th><th scope=col>country</th><th scope=col>gdp_pc</th><th scope=col>labor_prod</th><th scope=col>devgdp</th><th scope=col>devlp</th><th scope=col>devgdplp</th><th scope=col>sqdev</th><th scope=col>fitted</th><th scope=col>residuals</th></tr>\n",
       "\t<tr><th></th><th scope=col>&lt;fct&gt;</th><th scope=col>&lt;dbl&gt;</th><th scope=col>&lt;dbl&gt;</th><th scope=col>&lt;dbl&gt;</th><th scope=col>&lt;dbl&gt;</th><th scope=col>&lt;dbl&gt;</th><th scope=col>&lt;dbl&gt;</th><th scope=col>&lt;dbl&gt;</th><th scope=col>&lt;dbl&gt;</th></tr>\n",
       "</thead>\n",
       "<tbody>\n",
       "\t<tr><th scope=row>1</th><td>Algeria    </td><td> 4.7105838</td><td>19.8005575</td><td>-10.2410040</td><td> -9.889633</td><td> 101.279767</td><td> 104.8781626</td><td>10.288586</td><td>-9.5119711</td></tr>\n",
       "\t<tr><th scope=row>2</th><td>Canada     </td><td>51.5887614</td><td>99.7083740</td><td> 36.6371737</td><td> 70.018184</td><td>2565.268362</td><td>1342.2824956</td><td>99.099393</td><td>-0.6089806</td></tr>\n",
       "\t<tr><th scope=row>3</th><td>Malawi     </td><td> 0.5236035</td><td> 0.7692204</td><td>-14.4279843</td><td>-28.920970</td><td> 417.271297</td><td> 208.1667310</td><td> 2.356343</td><td> 1.5871229</td></tr>\n",
       "\t<tr><th scope=row>4</th><td>Philippines</td><td> 3.3376820</td><td> 3.3199395</td><td>-11.6139057</td><td>-26.370251</td><td> 306.261606</td><td> 134.8828066</td><td> 7.687621</td><td> 4.3676816</td></tr>\n",
       "\t<tr><th scope=row>5</th><td>Uruguay    </td><td>14.5973081</td><td>24.8528593</td><td> -0.3542797</td><td> -4.837331</td><td>   1.713768</td><td>   0.1255141</td><td>29.019007</td><td> 4.1661472</td></tr>\n",
       "</tbody>\n",
       "</table>\n"
      ],
      "text/latex": [
       "A data.frame: 5 × 9\n",
       "\\begin{tabular}{r|lllllllll}\n",
       "  & country & gdp\\_pc & labor\\_prod & devgdp & devlp & devgdplp & sqdev & fitted & residuals\\\\\n",
       "  & <fct> & <dbl> & <dbl> & <dbl> & <dbl> & <dbl> & <dbl> & <dbl> & <dbl>\\\\\n",
       "\\hline\n",
       "\t1 & Algeria     &  4.7105838 & 19.8005575 & -10.2410040 &  -9.889633 &  101.279767 &  104.8781626 & 10.288586 & -9.5119711\\\\\n",
       "\t2 & Canada      & 51.5887614 & 99.7083740 &  36.6371737 &  70.018184 & 2565.268362 & 1342.2824956 & 99.099393 & -0.6089806\\\\\n",
       "\t3 & Malawi      &  0.5236035 &  0.7692204 & -14.4279843 & -28.920970 &  417.271297 &  208.1667310 &  2.356343 &  1.5871229\\\\\n",
       "\t4 & Philippines &  3.3376820 &  3.3199395 & -11.6139057 & -26.370251 &  306.261606 &  134.8828066 &  7.687621 &  4.3676816\\\\\n",
       "\t5 & Uruguay     & 14.5973081 & 24.8528593 &  -0.3542797 &  -4.837331 &    1.713768 &    0.1255141 & 29.019007 &  4.1661472\\\\\n",
       "\\end{tabular}\n"
      ],
      "text/markdown": [
       "\n",
       "A data.frame: 5 × 9\n",
       "\n",
       "| <!--/--> | country &lt;fct&gt; | gdp_pc &lt;dbl&gt; | labor_prod &lt;dbl&gt; | devgdp &lt;dbl&gt; | devlp &lt;dbl&gt; | devgdplp &lt;dbl&gt; | sqdev &lt;dbl&gt; | fitted &lt;dbl&gt; | residuals &lt;dbl&gt; |\n",
       "|---|---|---|---|---|---|---|---|---|---|\n",
       "| 1 | Algeria     |  4.7105838 | 19.8005575 | -10.2410040 |  -9.889633 |  101.279767 |  104.8781626 | 10.288586 | -9.5119711 |\n",
       "| 2 | Canada      | 51.5887614 | 99.7083740 |  36.6371737 |  70.018184 | 2565.268362 | 1342.2824956 | 99.099393 | -0.6089806 |\n",
       "| 3 | Malawi      |  0.5236035 |  0.7692204 | -14.4279843 | -28.920970 |  417.271297 |  208.1667310 |  2.356343 |  1.5871229 |\n",
       "| 4 | Philippines |  3.3376820 |  3.3199395 | -11.6139057 | -26.370251 |  306.261606 |  134.8828066 |  7.687621 |  4.3676816 |\n",
       "| 5 | Uruguay     | 14.5973081 | 24.8528593 |  -0.3542797 |  -4.837331 |    1.713768 |    0.1255141 | 29.019007 |  4.1661472 |\n",
       "\n"
      ],
      "text/plain": [
       "  country     gdp_pc     labor_prod devgdp      devlp      devgdplp   \n",
       "1 Algeria      4.7105838 19.8005575 -10.2410040  -9.889633  101.279767\n",
       "2 Canada      51.5887614 99.7083740  36.6371737  70.018184 2565.268362\n",
       "3 Malawi       0.5236035  0.7692204 -14.4279843 -28.920970  417.271297\n",
       "4 Philippines  3.3376820  3.3199395 -11.6139057 -26.370251  306.261606\n",
       "5 Uruguay     14.5973081 24.8528593  -0.3542797  -4.837331    1.713768\n",
       "  sqdev        fitted    residuals \n",
       "1  104.8781626 10.288586 -9.5119711\n",
       "2 1342.2824956 99.099393 -0.6089806\n",
       "3  208.1667310  2.356343  1.5871229\n",
       "4  134.8828066  7.687621  4.3676816\n",
       "5    0.1255141 29.019007  4.1661472"
      ]
     },
     "metadata": {},
     "output_type": "display_data"
    }
   ],
   "source": [
    "pset1$fitted<-beta_0+beta_1*pset1$gdp_pc\n",
    "pset1$residuals<-pset1$fitted-pset1$labor_prod\n",
    "sum(pset1$residuals)\n",
    "head(pset1)"
   ]
  },
  {
   "cell_type": "markdown",
   "metadata": {},
   "source": [
    "e) Now use the `lm()` command to run this regression automatically rather than manually as you did above and save the output as \"reg1\". Check that your estimates of $\\hat{\\beta_0}$ and $\\hat{\\beta_1}$ that you calculated manually above match the estimates using `lm()`. \n",
    "Call the `summary()` of reg1 so we can see the output."
   ]
  },
  {
   "cell_type": "code",
   "execution_count": 10,
   "metadata": {},
   "outputs": [
    {
     "data": {
      "text/plain": [
       "\n",
       "Call:\n",
       "lm(formula = labor_prod ~ gdp_pc, data = pset1)\n",
       "\n",
       "Residuals:\n",
       "     1      2      3      4      5 \n",
       " 9.512  0.609 -1.587 -4.368 -4.166 \n",
       "\n",
       "Coefficients:\n",
       "            Estimate Std. Error t value Pr(>|t|)   \n",
       "(Intercept)   1.3644     3.7491   0.364  0.74005   \n",
       "gdp_pc        1.8945     0.1555  12.187  0.00119 **\n",
       "---\n",
       "Signif. codes:  0 '***' 0.001 '**' 0.01 '*' 0.05 '.' 0.1 ' ' 1\n",
       "\n",
       "Residual standard error: 6.578 on 3 degrees of freedom\n",
       "Multiple R-squared:  0.9802,\tAdjusted R-squared:  0.9736 \n",
       "F-statistic: 148.5 on 1 and 3 DF,  p-value: 0.00119\n"
      ]
     },
     "metadata": {},
     "output_type": "display_data"
    }
   ],
   "source": [
    "reg1<-lm(labor_prod~gdp_pc, data=pset1)\n",
    "summary(reg1)"
   ]
  },
  {
   "cell_type": "markdown",
   "metadata": {},
   "source": [
    "f) According to the estimated relation, what is the predicted $\\widehat{E}$ for a country with a GDP per capita of \\$15,000?\n",
    "\n"
   ]
  },
  {
   "cell_type": "code",
   "execution_count": 11,
   "metadata": {},
   "outputs": [
    {
     "data": {
      "text/html": [
       "29.7819072494105"
      ],
      "text/latex": [
       "29.7819072494105"
      ],
      "text/markdown": [
       "29.7819072494105"
      ],
      "text/plain": [
       "[1] 29.78191"
      ]
     },
     "metadata": {},
     "output_type": "display_data"
    }
   ],
   "source": [
    "est<-beta_0+beta_1*15\n",
    "est"
   ]
  },
  {
   "cell_type": "markdown",
   "metadata": {},
   "source": [
    "The predicted $\\hat{E}$ (estimated labor productivity per capita) when GDP per capita is \\\\$15,000 is \\\\$29,782."
   ]
  },
  {
   "cell_type": "markdown",
   "metadata": {},
   "source": [
    "g) How much of the variation in Labor Productivity in Agriculture for these 5 countries is explained by their GDP per capita? \n",
    "\n",
    "Step 1: Calculate the $R^2$ by calculating the sum of squared residuals and the sum of squared total. Use only basic mathematical commands (`+`, `-`, `*`, `\\`, `sum()`, `^`) to do this. Then calculate $R^2$ and make sure to call the value so we can see it printed out.\n",
    "\n"
   ]
  },
  {
   "cell_type": "code",
   "execution_count": 12,
   "metadata": {},
   "outputs": [
    {
     "data": {
      "text/html": [
       "0.98019989577494"
      ],
      "text/latex": [
       "0.98019989577494"
      ],
      "text/markdown": [
       "0.98019989577494"
      ],
      "text/plain": [
       "[1] 0.9801999"
      ]
     },
     "metadata": {},
     "output_type": "display_data"
    }
   ],
   "source": [
    "ss_resid<-sum(pset1$resid^2)\n",
    "ss_tot<-sum(pset1$devlp^2)\n",
    "r_sq<-1-(ss_resid/ss_tot)\n",
    "r_sq"
   ]
  },
  {
   "cell_type": "markdown",
   "metadata": {},
   "source": [
    "Our $R^2$ is 0.98 which means that varition in GDP per capita explains most of the variation in labor productivity per capita.\n"
   ]
  },
  {
   "cell_type": "markdown",
   "metadata": {},
   "source": [
    "h) Repeat exercise (b) for the additional set of countries whose data is available in the file countries2.csv."
   ]
  },
  {
   "cell_type": "code",
   "execution_count": 13,
   "metadata": {
    "scrolled": false
   },
   "outputs": [
    {
     "data": {
      "text/html": [
       "<table>\n",
       "<caption>A data.frame: 5 × 3</caption>\n",
       "<thead>\n",
       "\t<tr><th></th><th scope=col>country</th><th scope=col>gdp_pc</th><th scope=col>labor_prod</th></tr>\n",
       "\t<tr><th></th><th scope=col>&lt;fct&gt;</th><th scope=col>&lt;dbl&gt;</th><th scope=col>&lt;dbl&gt;</th></tr>\n",
       "</thead>\n",
       "<tbody>\n",
       "\t<tr><th scope=row>1</th><td>Vietnam    </td><td> 2.0822437</td><td> 1.3064629</td></tr>\n",
       "\t<tr><th scope=row>2</th><td>Lebanon    </td><td> 5.8582380</td><td> 7.8716577</td></tr>\n",
       "\t<tr><th scope=row>3</th><td>Korea, Rep.</td><td>28.6057320</td><td>19.9075446</td></tr>\n",
       "\t<tr><th scope=row>4</th><td>Nepal      </td><td> 0.8590237</td><td> 0.6529532</td></tr>\n",
       "\t<tr><th scope=row>5</th><td>Mexico     </td><td>10.2756340</td><td> 6.0572671</td></tr>\n",
       "</tbody>\n",
       "</table>\n"
      ],
      "text/latex": [
       "A data.frame: 5 × 3\n",
       "\\begin{tabular}{r|lll}\n",
       "  & country & gdp\\_pc & labor\\_prod\\\\\n",
       "  & <fct> & <dbl> & <dbl>\\\\\n",
       "\\hline\n",
       "\t1 & Vietnam     &  2.0822437 &  1.3064629\\\\\n",
       "\t2 & Lebanon     &  5.8582380 &  7.8716577\\\\\n",
       "\t3 & Korea, Rep. & 28.6057320 & 19.9075446\\\\\n",
       "\t4 & Nepal       &  0.8590237 &  0.6529532\\\\\n",
       "\t5 & Mexico      & 10.2756340 &  6.0572671\\\\\n",
       "\\end{tabular}\n"
      ],
      "text/markdown": [
       "\n",
       "A data.frame: 5 × 3\n",
       "\n",
       "| <!--/--> | country &lt;fct&gt; | gdp_pc &lt;dbl&gt; | labor_prod &lt;dbl&gt; |\n",
       "|---|---|---|---|\n",
       "| 1 | Vietnam     |  2.0822437 |  1.3064629 |\n",
       "| 2 | Lebanon     |  5.8582380 |  7.8716577 |\n",
       "| 3 | Korea, Rep. | 28.6057320 | 19.9075446 |\n",
       "| 4 | Nepal       |  0.8590237 |  0.6529532 |\n",
       "| 5 | Mexico      | 10.2756340 |  6.0572671 |\n",
       "\n"
      ],
      "text/plain": [
       "  country     gdp_pc     labor_prod\n",
       "1 Vietnam      2.0822437  1.3064629\n",
       "2 Lebanon      5.8582380  7.8716577\n",
       "3 Korea, Rep. 28.6057320 19.9075446\n",
       "4 Nepal        0.8590237  0.6529532\n",
       "5 Mexico      10.2756340  6.0572671"
      ]
     },
     "metadata": {},
     "output_type": "display_data"
    }
   ],
   "source": [
    "pset2<-read.csv(\"countries2.csv\")\n",
    "colnames(pset2)<-c(\"country\", \"gdp_pc\", \"labor_prod\")\n",
    "head(pset2)"
   ]
  },
  {
   "cell_type": "code",
   "execution_count": 14,
   "metadata": {},
   "outputs": [
    {
     "data": {
      "image/png": "[encoded data removed]",
      "text/plain": [
       "Plot with title \"Labor Productivity in Agriculture and GDP per capita\""
      ]
     },
     "metadata": {
      "image/png": {
       "height": 420,
       "width": 420
      }
     },
     "output_type": "display_data"
    }
   ],
   "source": [
    "plot(pset2$gdp_pc, pset2$labor_prod, main=\"Labor Productivity in Agriculture and GDP per capita\", xlab=\"GDP per capita (US$1000)\", ylab=\"Labor Productivity in Agriculture (US$1000)\")"
   ]
  },
  {
   "cell_type": "code",
   "execution_count": 15,
   "metadata": {},
   "outputs": [
    {
     "data": {
      "text/html": [
       "84.9379160316797"
      ],
      "text/latex": [
       "84.9379160316797"
      ],
      "text/markdown": [
       "84.9379160316797"
      ],
      "text/plain": [
       "[1] 84.93792"
      ]
     },
     "metadata": {},
     "output_type": "display_data"
    },
    {
     "data": {
      "text/html": [
       "127.144018005446"
      ],
      "text/latex": [
       "127.144018005446"
      ],
      "text/markdown": [
       "127.144018005446"
      ],
      "text/plain": [
       "[1] 127.144"
      ]
     },
     "metadata": {},
     "output_type": "display_data"
    }
   ],
   "source": [
    "mean_gdp_pc2<-mean(pset2$gdp_pc)\n",
    "mean_labor_prod2<-mean(pset2$labor_prod)\n",
    "\n",
    "mean_labor_prod2<-mean(pset2$labor_prod)\n",
    "pset2$devgdp<-pset2$gdp_pc-mean_gdp_pc2\n",
    "pset2$devlp<-pset2$labor_prod-mean_labor_prod2\n",
    "pset2$devgdplp<-pset2$devgdp*pset2$devlp\n",
    "covar2<-sum(pset2$devgdplp)/4\n",
    "covar2\n",
    "\n",
    "pset2$sqdev<-pset2$devgdp^2\n",
    "\n",
    "var2<-sum(pset2$sqdev)/4\n",
    "var2\n",
    "\n",
    "\n"
   ]
  },
  {
   "cell_type": "code",
   "execution_count": 16,
   "metadata": {},
   "outputs": [
    {
     "data": {
      "text/html": [
       "0.668044925464299"
      ],
      "text/latex": [
       "0.668044925464299"
      ],
      "text/markdown": [
       "0.668044925464299"
      ],
      "text/plain": [
       "[1] 0.6680449"
      ]
     },
     "metadata": {},
     "output_type": "display_data"
    },
    {
     "data": {
      "text/html": [
       "0.788584263174185"
      ],
      "text/latex": [
       "0.788584263174185"
      ],
      "text/markdown": [
       "0.788584263174185"
      ],
      "text/plain": [
       "[1] 0.7885843"
      ]
     },
     "metadata": {},
     "output_type": "display_data"
    }
   ],
   "source": [
    "beta_1_sample2<-covar2/var2\n",
    "beta_1_sample2\n",
    "\n",
    "\n",
    "beta_0_sample2<-mean_labor_prod2-(beta_1_sample2*mean_gdp_pc2)\n",
    "beta_0_sample2"
   ]
  },
  {
   "cell_type": "code",
   "execution_count": 17,
   "metadata": {},
   "outputs": [
    {
     "data": {
      "text/html": [
       "-1.77635683940025e-15"
      ],
      "text/latex": [
       "-1.77635683940025e-15"
      ],
      "text/markdown": [
       "-1.77635683940025e-15"
      ],
      "text/plain": [
       "[1] -1.776357e-15"
      ]
     },
     "metadata": {},
     "output_type": "display_data"
    },
    {
     "data": {
      "text/html": [
       "<table>\n",
       "<caption>A data.frame: 5 × 9</caption>\n",
       "<thead>\n",
       "\t<tr><th></th><th scope=col>country</th><th scope=col>gdp_pc</th><th scope=col>labor_prod</th><th scope=col>devgdp</th><th scope=col>devlp</th><th scope=col>devgdplp</th><th scope=col>sqdev</th><th scope=col>fitted</th><th scope=col>residuals</th></tr>\n",
       "\t<tr><th></th><th scope=col>&lt;fct&gt;</th><th scope=col>&lt;dbl&gt;</th><th scope=col>&lt;dbl&gt;</th><th scope=col>&lt;dbl&gt;</th><th scope=col>&lt;dbl&gt;</th><th scope=col>&lt;dbl&gt;</th><th scope=col>&lt;dbl&gt;</th><th scope=col>&lt;dbl&gt;</th><th scope=col>&lt;dbl&gt;</th></tr>\n",
       "</thead>\n",
       "<tbody>\n",
       "\t<tr><th scope=row>1</th><td>Vietnam    </td><td> 2.0822437</td><td> 1.3064629</td><td>-7.4539306</td><td>-5.8527142</td><td> 43.6257252</td><td> 55.5610811</td><td> 2.179617</td><td> 0.873153673</td></tr>\n",
       "\t<tr><th scope=row>2</th><td>Lebanon    </td><td> 5.8582380</td><td> 7.8716577</td><td>-3.6779363</td><td> 0.7124806</td><td> -2.6204582</td><td> 13.5272156</td><td> 4.702150</td><td>-3.169507263</td></tr>\n",
       "\t<tr><th scope=row>3</th><td>Korea, Rep.</td><td>28.6057320</td><td>19.9075446</td><td>19.0695577</td><td>12.7483675</td><td>243.1057305</td><td>363.6480321</td><td>19.898498</td><td>-0.009046248</td></tr>\n",
       "\t<tr><th scope=row>4</th><td>Nepal      </td><td> 0.8590237</td><td> 0.6529532</td><td>-8.6771506</td><td>-6.5062239</td><td> 56.4554847</td><td> 75.2929424</td><td> 1.362451</td><td> 0.709497497</td></tr>\n",
       "\t<tr><th scope=row>5</th><td>Mexico     </td><td>10.2756340</td><td> 6.0572671</td><td> 0.7394598</td><td>-1.1019100</td><td> -0.8148181</td><td>  0.5468007</td><td> 7.653169</td><td> 1.595902342</td></tr>\n",
       "</tbody>\n",
       "</table>\n"
      ],
      "text/latex": [
       "A data.frame: 5 × 9\n",
       "\\begin{tabular}{r|lllllllll}\n",
       "  & country & gdp\\_pc & labor\\_prod & devgdp & devlp & devgdplp & sqdev & fitted & residuals\\\\\n",
       "  & <fct> & <dbl> & <dbl> & <dbl> & <dbl> & <dbl> & <dbl> & <dbl> & <dbl>\\\\\n",
       "\\hline\n",
       "\t1 & Vietnam     &  2.0822437 &  1.3064629 & -7.4539306 & -5.8527142 &  43.6257252 &  55.5610811 &  2.179617 &  0.873153673\\\\\n",
       "\t2 & Lebanon     &  5.8582380 &  7.8716577 & -3.6779363 &  0.7124806 &  -2.6204582 &  13.5272156 &  4.702150 & -3.169507263\\\\\n",
       "\t3 & Korea, Rep. & 28.6057320 & 19.9075446 & 19.0695577 & 12.7483675 & 243.1057305 & 363.6480321 & 19.898498 & -0.009046248\\\\\n",
       "\t4 & Nepal       &  0.8590237 &  0.6529532 & -8.6771506 & -6.5062239 &  56.4554847 &  75.2929424 &  1.362451 &  0.709497497\\\\\n",
       "\t5 & Mexico      & 10.2756340 &  6.0572671 &  0.7394598 & -1.1019100 &  -0.8148181 &   0.5468007 &  7.653169 &  1.595902342\\\\\n",
       "\\end{tabular}\n"
      ],
      "text/markdown": [
       "\n",
       "A data.frame: 5 × 9\n",
       "\n",
       "| <!--/--> | country &lt;fct&gt; | gdp_pc &lt;dbl&gt; | labor_prod &lt;dbl&gt; | devgdp &lt;dbl&gt; | devlp &lt;dbl&gt; | devgdplp &lt;dbl&gt; | sqdev &lt;dbl&gt; | fitted &lt;dbl&gt; | residuals &lt;dbl&gt; |\n",
       "|---|---|---|---|---|---|---|---|---|---|\n",
       "| 1 | Vietnam     |  2.0822437 |  1.3064629 | -7.4539306 | -5.8527142 |  43.6257252 |  55.5610811 |  2.179617 |  0.873153673 |\n",
       "| 2 | Lebanon     |  5.8582380 |  7.8716577 | -3.6779363 |  0.7124806 |  -2.6204582 |  13.5272156 |  4.702150 | -3.169507263 |\n",
       "| 3 | Korea, Rep. | 28.6057320 | 19.9075446 | 19.0695577 | 12.7483675 | 243.1057305 | 363.6480321 | 19.898498 | -0.009046248 |\n",
       "| 4 | Nepal       |  0.8590237 |  0.6529532 | -8.6771506 | -6.5062239 |  56.4554847 |  75.2929424 |  1.362451 |  0.709497497 |\n",
       "| 5 | Mexico      | 10.2756340 |  6.0572671 |  0.7394598 | -1.1019100 |  -0.8148181 |   0.5468007 |  7.653169 |  1.595902342 |\n",
       "\n"
      ],
      "text/plain": [
       "  country     gdp_pc     labor_prod devgdp     devlp      devgdplp   \n",
       "1 Vietnam      2.0822437  1.3064629 -7.4539306 -5.8527142  43.6257252\n",
       "2 Lebanon      5.8582380  7.8716577 -3.6779363  0.7124806  -2.6204582\n",
       "3 Korea, Rep. 28.6057320 19.9075446 19.0695577 12.7483675 243.1057305\n",
       "4 Nepal        0.8590237  0.6529532 -8.6771506 -6.5062239  56.4554847\n",
       "5 Mexico      10.2756340  6.0572671  0.7394598 -1.1019100  -0.8148181\n",
       "  sqdev       fitted    residuals   \n",
       "1  55.5610811  2.179617  0.873153673\n",
       "2  13.5272156  4.702150 -3.169507263\n",
       "3 363.6480321 19.898498 -0.009046248\n",
       "4  75.2929424  1.362451  0.709497497\n",
       "5   0.5468007  7.653169  1.595902342"
      ]
     },
     "metadata": {},
     "output_type": "display_data"
    }
   ],
   "source": [
    "pset2$fitted<-beta_0_sample2+beta_1_sample2*pset2$gdp_pc\n",
    "pset2$residuals<-pset2$fitted-pset2$labor_prod\n",
    "sum(pset2$residuals)\n",
    "head(pset2)"
   ]
  },
  {
   "cell_type": "code",
   "execution_count": 18,
   "metadata": {},
   "outputs": [
    {
     "data": {
      "text/plain": [
       "\n",
       "Call:\n",
       "lm(formula = labor_prod ~ gdp_pc, data = pset2)\n",
       "\n",
       "Residuals:\n",
       "        1         2         3         4         5 \n",
       "-0.873154  3.169507  0.009046 -0.709497 -1.595902 \n",
       "\n",
       "Coefficients:\n",
       "            Estimate Std. Error t value Pr(>|t|)   \n",
       "(Intercept)  0.78858    1.32285   0.596  0.59307   \n",
       "gdp_pc       0.66804    0.09531   7.009  0.00596 **\n",
       "---\n",
       "Signif. codes:  0 '***' 0.001 '**' 0.01 '*' 0.05 '.' 0.1 ' ' 1\n",
       "\n",
       "Residual standard error: 2.149 on 3 degrees of freedom\n",
       "Multiple R-squared:  0.9425,\tAdjusted R-squared:  0.9233 \n",
       "F-statistic: 49.13 on 1 and 3 DF,  p-value: 0.005963\n"
      ]
     },
     "metadata": {},
     "output_type": "display_data"
    }
   ],
   "source": [
    "reg2<-lm(labor_prod~gdp_pc, data=pset2)\n",
    "summary(reg2)"
   ]
  },
  {
   "cell_type": "code",
   "execution_count": 19,
   "metadata": {},
   "outputs": [
    {
     "data": {
      "text/html": [
       "10.8092581451387"
      ],
      "text/latex": [
       "10.8092581451387"
      ],
      "text/markdown": [
       "10.8092581451387"
      ],
      "text/plain": [
       "[1] 10.80926"
      ]
     },
     "metadata": {},
     "output_type": "display_data"
    }
   ],
   "source": [
    "est<-beta_0_sample2+beta_1_sample2*15\n",
    "est"
   ]
  },
  {
   "cell_type": "code",
   "execution_count": 20,
   "metadata": {},
   "outputs": [
    {
     "data": {
      "text/html": [
       "0.942454569415348"
      ],
      "text/latex": [
       "0.942454569415348"
      ],
      "text/markdown": [
       "0.942454569415348"
      ],
      "text/plain": [
       "[1] 0.9424546"
      ]
     },
     "metadata": {},
     "output_type": "display_data"
    }
   ],
   "source": [
    "ss_resid2<-sum(pset2$resid^2)\n",
    "ss_tot2<-sum(pset2$devlp^2)\n",
    "r_sq2<-1-(ss_resid2/ss_tot2)\n",
    "r_sq2\n"
   ]
  },
  {
   "cell_type": "markdown",
   "metadata": {},
   "source": [
    "i) How do your estimates of $\\hat{\\beta}_0$ and $\\hat{\\beta}_1$ change between Tables 1 and 2? Briefly explain this variation in 3-5 sentences."
   ]
  },
  {
   "cell_type": "markdown",
   "metadata": {},
   "source": [
    "*In both data sets, we have a positive estimate of $\\beta_0$ and a postive estimate of $\\beta_1$. However, the values of the estimates are not the same; $\\hat\\beta_0$ in our second data set is much lower that $\\hat\\beta_0$ in our second data set. On the other hand, we have a larger estimate of $\\beta_1$ (>1) in our first data set compared to the second one (<1). We can attribute these differences to variation in our sample, as both of these data sets are very small samples from the overall population of countries, and hence will yield different $\\hat{\\beta_0}$ and $\\hat{\\beta_1}$.*"
   ]
  },
  {
   "cell_type": "markdown",
   "metadata": {},
   "source": [
    " # Exercise 2. Regression Assumptions"
   ]
  },
  {
   "cell_type": "markdown",
   "metadata": {},
   "source": [
    "Refer to the first figure.  Suppose you wanted to estimate the relationship between GDP and Agricultural Productivity.  \n",
    "\n",
    "\n",
    "Write down assumption SLR1.  Interpret the assumption in this context (1-3 sentences), and discuss whether you think it is likely to hold for this exersize (3-5 sentences)"
   ]
  },
  {
   "cell_type": "markdown",
   "metadata": {},
   "source": [
    "*SLR1 supposes that our data generating process is linear in the parameters. This means that for some function of $x$ called $f(x)$, we can write: $y=\\beta_0+\\beta_1 f(x)+u$. This seems likely to hold in this case, as the relationship seems generally linear, meaning an appropriate model is likely: $y=\\beta_0+\\beta_1 x+u$, which is linear in the parameters.*\n"
   ]
  },
  {
   "cell_type": "markdown",
   "metadata": {},
   "source": [
    "Write down assumption SLR4. Interpret the assumption in this context (1-3 sentences), and discuss whether you think it is likely to hold for this exersize (3-5 sentences)"
   ]
  },
  {
   "cell_type": "markdown",
   "metadata": {},
   "source": [
    "*SLR 4 is the assumption of mean independence, that $E(x\\vert u)=0$. In this context, this assumption would\n",
    "mean that at any given GDP per capita, we would expect the error on expected labor productivity in agriculture to be zero. This assumption is unlikely to hold in this context–there are likely many other omitted variables (e.g. climate, soil quality, water availability) that are correlated with labor productivity in agriculture and also correlated with GDP per capita.*"
   ]
  },
  {
   "cell_type": "markdown",
   "metadata": {},
   "source": [
    "# Submission Instructions \n",
    "\n",
    "Go to the file dropdown menu and select the ”Download as” dropdown menu. In this menu make sure to select ”PDF via Chrome” (this is important, select this even if you are not using Chrome). The figures in the problem statement may not show up in the pdf you generate. That is ok.\n",
    "Once you have downloaded this pdf, make sure it shows all your answers and upload it to Gradescope."
   ]
  }
 ],
 "metadata": {
  "kernelspec": {
   "display_name": "R",
   "language": "R",
   "name": "ir"
  },
  "language_info": {
   "codemirror_mode": "r",
   "file_extension": ".r",
   "mimetype": "text/x-r-source",
   "name": "R",
   "pygments_lexer": "r",
   "version": "3.5.2"
  }
 },
 "nbformat": 4,
 "nbformat_minor": 2
}
