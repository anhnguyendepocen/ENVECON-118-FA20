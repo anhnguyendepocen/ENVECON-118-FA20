{
 "cells": [
  {
   "cell_type": "markdown",
   "metadata": {},
   "source": [
    "# Big Assignment 3\n",
    "\n",
    "## Background\n",
    "\n",
    "The data for this exercise were used in Ebonya Washington's paper: \"Female Socialization: How Daughters Affect Their Legislator Fathers' Voting on Women's Issues.\"  published in the American Economic Review in 2008. The paper asks whether having daughters influences the voting behavior of members of the US Congress. The hypothesis is that having (more) daughters makes legislators more likely to vote liberally on issues concerning women.\n",
    "\n",
    "For this exercise, we will focus on votes that took place in the 108th Congress, which held session in 2003/04. As a measure of a liberal voting record, we use scores assigned by the American Association of University Women (AAUW), a liberal group that concerns itself with issues of interest to women. For the 108th Congress, the AAUW selected 9 pieces of legislation in the areas of education, equality and reproductive rights. The AAUW then assigned a score to each member of Congress. The scores range from 0 to 100 and measure the percentage of times the legislator voted in favor of the position held by the AAUW.\n",
    "\n",
    " The dataset `legislators.dta` contains the following characteristics for 320 members of the 108th Congress:\n",
    " \n",
    " * $ngirls$ number of daughters\n",
    " * $totchi$ number of children\n",
    " * $age$ Age\n",
    " * $female$ indicator for being female\n",
    " * $repub$ indicator for being a Republican\n",
    " *  $moredef$ proportion of people in the legislator's district who are in favor of \"more spending on\n",
    "defense\" \n",
    " *  $aauw$ AAUW score"
   ]
  },
  {
   "cell_type": "markdown",
   "metadata": {},
   "source": [
    "### (a) Estimate and report results for the following regression models:\n",
    "\n",
    "Load in the data set `legislators.dta`. Remember, you will first need to call the `haven` package to do so.\n",
    "\n",
    "Generate a variable `ngirls2` $=\\text{ngirls}^2$\n",
    "\n",
    "Generate an interaction variable `repubngirls` $= \\text{repub}*\\text{ngirls}$\n",
    "\n",
    "Generate an interaction variable `repubngirls2` $=\\text{repub}*\\text{ngirls2}$\n",
    "\n",
    "Estimate the following three regression models:\n",
    "\n",
    "\\begin{align}\n",
    "aauw&=\\beta_0 +\\beta_1female+\\beta_2repub+\\beta_3ngirls+u  ~~~~~~~~~~~~~~~~~~~~~~~~~~~~~~~~~~~~~~~~~~~~~~~~~~~~~~~~~~~~~~~~ (1) \\\\\n",
    "aauw&=\\beta_0 +\\beta_1female+\\beta_2repub+\\beta_3ngirls+\\beta_4 ngirls2+u ~~~~~~~~~~~~~~~~~~~~~~~~~~~~~~~~~~~~~~~~~~~~~~~(2)  \\\\\n",
    "aauw&=\\beta_0 + \\beta_1female+\\beta_2repub+\\beta_3ngirls+\\beta_4 ngirls2+\\beta_5 repubngirls+\\beta_6 repubngirls2+\\beta_7 totchi + \\beta_8 moredef + u\\ \\ \\ (3) \n",
    "\\end{align}"
   ]
  },
  {
   "cell_type": "code",
   "execution_count": 1,
   "metadata": {},
   "outputs": [],
   "source": [
    "# Add Code for part (a) here."
   ]
  },
  {
   "cell_type": "markdown",
   "metadata": {},
   "source": [
    "### (b) Suggest which model is the best fit to the data"
   ]
  },
  {
   "cell_type": "markdown",
   "metadata": {},
   "source": [
    "Write your answer here."
   ]
  },
  {
   "cell_type": "markdown",
   "metadata": {},
   "source": [
    "### (c) Interpret the effect of `ngirls` on `aauw` in each model"
   ]
  },
  {
   "cell_type": "code",
   "execution_count": 3,
   "metadata": {},
   "outputs": [],
   "source": [
    "# Add code for part (c) here if needed"
   ]
  },
  {
   "cell_type": "markdown",
   "metadata": {},
   "source": [
    "Write your answer here."
   ]
  },
  {
   "cell_type": "markdown",
   "metadata": {},
   "source": [
    "### (d) Test whether there is an effect of the number of daughters on aauw scores using the second model. Be sure to describe carefully the null and alternative hypothesis."
   ]
  },
  {
   "cell_type": "markdown",
   "metadata": {},
   "source": [
    "Step 1: Estimate the restricted model.\n",
    "\n",
    "Step 2: Calculate the sum of squared residuals from the restricted and unrestricted models.\n",
    "\n",
    "Step 3: Apply the F-stat formula.\n",
    "\n",
    "Alternative (easier):\n",
    "\n",
    "Step 2 (alternative): Find the $R^2$ in the summary of the restricted and unrestricted models.\n",
    "\n",
    "Step 3 (alternative): Apply the $R^2$ version of the F-stat formula.\n",
    "\n",
    "\n"
   ]
  },
  {
   "cell_type": "markdown",
   "metadata": {},
   "source": [
    "Using model 2, the null hypothesis is that $\\beta_3 = \\beta_4 = 0$. The alternative hypothesis is that either $\\beta_3$ or $\\beta_4$ (or both) are not zero."
   ]
  },
  {
   "cell_type": "code",
   "execution_count": 4,
   "metadata": {},
   "outputs": [],
   "source": [
    "#Write code for part (d) here\n"
   ]
  },
  {
   "cell_type": "markdown",
   "metadata": {},
   "source": [
    "Write your answer here."
   ]
  },
  {
   "cell_type": "markdown",
   "metadata": {},
   "source": [
    "### (e) Using the third model, predict the aauw score for a male democrat who has 1 daughter and 1 son, and who has 20% of constituents who want more spending on defense. Suggest a $95\\%$ CI for that predicted value.\n",
    "\n",
    "Hint: See part 2-A of section notes 7."
   ]
  },
  {
   "cell_type": "code",
   "execution_count": 5,
   "metadata": {},
   "outputs": [],
   "source": [
    "#Write code for part (e) here."
   ]
  },
  {
   "cell_type": "markdown",
   "metadata": {},
   "source": [
    "Add your written answer for part (e) here."
   ]
  },
  {
   "cell_type": "markdown",
   "metadata": {},
   "source": [
    "### (f) Suppose a male Democrat with 1 daughter and 1 son defeats the incumbent Senator in a state where 20% of constituents want more spending on defense. Generate a $95\\%$ CI for his particular AAUW score, continuing to use the third model.\n",
    "\n",
    "Hint: See part 2-B of Section Notes 7. "
   ]
  },
  {
   "cell_type": "code",
   "execution_count": 6,
   "metadata": {},
   "outputs": [],
   "source": [
    "#Write any code you need for this part here"
   ]
  },
  {
   "cell_type": "markdown",
   "metadata": {},
   "source": [
    "Write your answer here."
   ]
  },
  {
   "cell_type": "markdown",
   "metadata": {},
   "source": [
    "### (g) Interpret the coeffcient $\\beta_2$ from model (3)."
   ]
  },
  {
   "cell_type": "markdown",
   "metadata": {},
   "source": [
    "Write your answer here"
   ]
  },
  {
   "cell_type": "markdown",
   "metadata": {},
   "source": [
    "### (h) Suppose you think Republicans and non-Republicans may have different gender patterns in voting. That is, republican men may vote differently than Republican women, who may vote differently than Democratic women who may vote differently than Democratic men. Write down an estimation equaiton to test whether republican women, Democratic women, and Democratic men each vote differently than Republican men."
   ]
  },
  {
   "cell_type": "markdown",
   "metadata": {},
   "source": [
    "Write your answer here."
   ]
  },
  {
   "cell_type": "markdown",
   "metadata": {},
   "source": [
    "### (i) Implement your test. Interpret each coeffcient.\n"
   ]
  },
  {
   "cell_type": "code",
   "execution_count": 7,
   "metadata": {},
   "outputs": [],
   "source": [
    "#Write your code here"
   ]
  },
  {
   "cell_type": "markdown",
   "metadata": {},
   "source": [
    "Write your answer here."
   ]
  },
  {
   "cell_type": "markdown",
   "metadata": {},
   "source": [
    "### (j) Adapt your regression to test whether democratic women vote differently than republican women. Please report your results (write out the estimating equations)."
   ]
  },
  {
   "cell_type": "code",
   "execution_count": 8,
   "metadata": {},
   "outputs": [],
   "source": [
    "#Add your code for part j here"
   ]
  },
  {
   "cell_type": "markdown",
   "metadata": {},
   "source": [
    "Write your answer here."
   ]
  },
  {
   "cell_type": "markdown",
   "metadata": {},
   "source": [
    "## Downloading your Notebook\n",
    "\n",
    "Download a PDF copy of your notebook by using __File > Print Preview. \n",
    "\n",
    "Once you have generated the print preview, use Print > Save as PDF to create the PDF."
   ]
  }
 ],
 "metadata": {
  "kernelspec": {
   "display_name": "R",
   "language": "R",
   "name": "ir"
  },
  "language_info": {
   "codemirror_mode": "r",
   "file_extension": ".r",
   "mimetype": "text/x-r-source",
   "name": "R",
   "pygments_lexer": "r",
   "version": "3.6.1"
  }
 },
 "nbformat": 4,
 "nbformat_minor": 2
}
