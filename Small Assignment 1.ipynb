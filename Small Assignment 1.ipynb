{
 "cells": [
  {
   "cell_type": "markdown",
   "metadata": {},
   "source": [
    "# Small Assignment 1\n",
    "(due September 11th 2020, 11:59 PM PDT)"
   ]
  },
  {
   "cell_type": "markdown",
   "metadata": {},
   "source": [
    "This assignment can be done in excel, but we recommend you use **R** to get familiar with manipulating data. \n",
    "\n",
    "Please submit this assignment via Gradescope. To do so you will need to generate a single pdf\n",
    "file of your answers. For small assignments, the pdf can be composed of photo images and/or\n",
    "screenshots if you are not using Jupyter. Please see the [submission instructions](https://gradescope-static-assets.s3-us-west-2.amazonaws.com/help/submitting_hw_guide.pdf) for help uploading to Gradescope. "
   ]
  },
  {
   "cell_type": "markdown",
   "metadata": {},
   "source": [
    "## Part 1. \n",
    "We are going to explore the nuts and bolts of regressions by doing one by hand. *Whether you are using* **R** *or excel, please do not use canned functions to calculate sample variances and covaraiances and to estimate regression coefficients.*\n",
    "\n",
    "Start by reading in the `energy.csv` file."
   ]
  },
  {
   "cell_type": "code",
   "execution_count": null,
   "metadata": {},
   "outputs": [],
   "source": []
  },
  {
   "cell_type": "markdown",
   "metadata": {},
   "source": [
    "**(a)** Create two new variables, GDP (\\$) per capita and energy use (KT oil equivalent) per capita. *Hint: Use the* `mutate` *function (you will have to load* `tidyverse` *first).*\n"
   ]
  },
  {
   "cell_type": "code",
   "execution_count": null,
   "metadata": {},
   "outputs": [],
   "source": []
  },
  {
   "cell_type": "markdown",
   "metadata": {},
   "source": [
    "**(b)** Generate a scatter plot comparing energy use per capita (on the y-axis) to GDP per capita (on the x-axis) for the countries in your sample. *Hint: Use the* `plot` *function.*"
   ]
  },
  {
   "cell_type": "code",
   "execution_count": null,
   "metadata": {},
   "outputs": [],
   "source": []
  },
  {
   "cell_type": "markdown",
   "metadata": {},
   "source": [
    "**(c)** Calculate the sample mean of GDP per capita, sample mean of energy per capita,\n",
    "covariance of GDP per capita and energy use per capita, and variance of GDP per\n",
    "capita."
   ]
  },
  {
   "cell_type": "code",
   "execution_count": null,
   "metadata": {},
   "outputs": [],
   "source": []
  },
  {
   "cell_type": "markdown",
   "metadata": {},
   "source": [
    "**(d)** Suppose $y_i$ is energy use per capita in country $i$ and $x_i$ is GDP per capita in country $i$. Suppose your statistical model is $$y_i=\\beta_0+\\beta_1x_i+u_i.$$ Estimate $\\hat{\\beta}_0$ and $\\hat{\\beta}_1$ using your results in part **(c)**. "
   ]
  },
  {
   "cell_type": "code",
   "execution_count": null,
   "metadata": {},
   "outputs": [],
   "source": []
  },
  {
   "cell_type": "markdown",
   "metadata": {},
   "source": [
    "**(e)** Plot a line which indicates the predictions from your estimated model, $$\\hat{y}_i=\\hat{\\beta}_0+\\hat{\\beta}_1x_i.$$ *Hint: use the* `curve` *function.*"
   ]
  },
  {
   "cell_type": "code",
   "execution_count": null,
   "metadata": {},
   "outputs": [],
   "source": []
  },
  {
   "cell_type": "markdown",
   "metadata": {},
   "source": [
    "**(f)** Interpret your estimates $\\hat{\\beta}_0$ and $\\hat{\\beta}_1$."
   ]
  },
  {
   "cell_type": "markdown",
   "metadata": {},
   "source": [
    " "
   ]
  },
  {
   "cell_type": "markdown",
   "metadata": {},
   "source": [
    "## Part 2.\n",
    "Suppose you estimate a weekly wage equation which suggests \n",
    "\n",
    "$$ \\log(wage_i)=5.45+.09*Ed_i+u_i$$ \n",
    "\n",
    "where $Ed_i$ is the number of years of education completed by person $i$. \n",
    "\n",
    "**(a)** Predict the wage for a person with 12 years of education (that is a person who completes high school)."
   ]
  },
  {
   "cell_type": "code",
   "execution_count": null,
   "metadata": {},
   "outputs": [],
   "source": []
  },
  {
   "cell_type": "markdown",
   "metadata": {},
   "source": [
    "**(b)** Interpret your estimated $\\beta_1=$0.09."
   ]
  },
  {
   "cell_type": "markdown",
   "metadata": {},
   "source": [
    " "
   ]
  }
 ],
 "metadata": {
  "kernelspec": {
   "display_name": "R",
   "language": "R",
   "name": "ir"
  },
  "language_info": {
   "codemirror_mode": "r",
   "file_extension": ".r",
   "mimetype": "text/x-r-source",
   "name": "R",
   "pygments_lexer": "r",
   "version": "3.5.2"
  }
 },
 "nbformat": 4,
 "nbformat_minor": 4
}
