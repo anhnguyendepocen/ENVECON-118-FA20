{
 "cells": [
  {
   "cell_type": "markdown",
   "metadata": {},
   "source": [
    "# Small Assignment 1 Solutions"
   ]
  },
  {
   "cell_type": "markdown",
   "metadata": {},
   "source": [
    "## Part 1. \n",
    "We are going to explore the nuts and bolts of regressions by doing one by hand. *Whether you are using* **R** *or excel, please do not use canned functions to calculate sample variances and covaraiances and to estimate regression coefficients.*\n",
    "\n",
    "Start by reading in the `energy.csv` file."
   ]
  },
  {
   "cell_type": "code",
   "execution_count": 1,
   "metadata": {},
   "outputs": [],
   "source": [
    "#Read in the data \n",
    "df <-read.csv('energy.csv', header=T)"
   ]
  },
  {
   "cell_type": "markdown",
   "metadata": {},
   "source": [
    "**(a)** Create two new variables, GDP (\\$) per capita and energy use (KT oil equivalent) per capita. *Hint: use the* `mutate` *function.*\n"
   ]
  },
  {
   "cell_type": "code",
   "execution_count": 2,
   "metadata": {},
   "outputs": [
    {
     "name": "stderr",
     "output_type": "stream",
     "text": [
      "Warning message:\n",
      "\"As of rlang 0.4.0, dplyr must be at least version 0.8.0.\n",
      "* dplyr 0.7.8 is too old for rlang 0.4.5.\n",
      "* Please update dplyr to the latest version.\n",
      "* Updating packages on Windows requires precautions:\n",
      "  <https://github.com/jennybc/what-they-forgot/issues/62>\"\n",
      "-- \u001b[1mAttaching packages\u001b[22m --------------------------------------- tidyverse 1.2.1 --\n",
      "\n",
      "\u001b[32mv\u001b[39m \u001b[34mggplot2\u001b[39m 3.1.0     \u001b[32mv\u001b[39m \u001b[34mpurrr  \u001b[39m 0.2.5\n",
      "\u001b[32mv\u001b[39m \u001b[34mtibble \u001b[39m 2.0.1     \u001b[32mv\u001b[39m \u001b[34mdplyr  \u001b[39m 0.7.8\n",
      "\u001b[32mv\u001b[39m \u001b[34mtidyr  \u001b[39m 0.8.2     \u001b[32mv\u001b[39m \u001b[34mstringr\u001b[39m 1.3.1\n",
      "\u001b[32mv\u001b[39m \u001b[34mreadr  \u001b[39m 1.3.1     \u001b[32mv\u001b[39m \u001b[34mforcats\u001b[39m 0.3.0\n",
      "\n",
      "-- \u001b[1mConflicts\u001b[22m ------------------------------------------ tidyverse_conflicts() --\n",
      "\u001b[31mx\u001b[39m \u001b[34mdplyr\u001b[39m::\u001b[32mfilter()\u001b[39m masks \u001b[34mstats\u001b[39m::filter()\n",
      "\u001b[31mx\u001b[39m \u001b[34mdplyr\u001b[39m::\u001b[32mlag()\u001b[39m    masks \u001b[34mstats\u001b[39m::lag()\n",
      "\n",
      "Warning message:\n",
      "\"The `printer` argument is deprecated as of rlang 0.3.0.\n",
      "\u001b[90mThis warning is displayed once per session.\u001b[39m\"\n"
     ]
    }
   ],
   "source": [
    "#Load tidyverse\n",
    "library(tidyverse)\n",
    "#Generate per capita variables\n",
    "df <- mutate(df, gdp_pc= gdp/pop, energy_pc=energy_use/pop)\n",
    "#head(df)"
   ]
  },
  {
   "cell_type": "markdown",
   "metadata": {},
   "source": [
    "**(b)** Generate a scatter plot comparing energy use per capita (on the y-axis) to GDP per capita (on the x-axis) for the countries in your sample. *Hint: Use the* `plot` *function.*"
   ]
  },
  {
   "cell_type": "code",
   "execution_count": 3,
   "metadata": {},
   "outputs": [
    {
     "data": {
      "image/png": "[encoded data removed]",
      "text/plain": [
       "plot without title"
      ]
     },
     "metadata": {
      "image/png": {
       "height": 420,
       "width": 420
      }
     },
     "output_type": "display_data"
    }
   ],
   "source": [
    "#Simple scatterplot\n",
    "plot(df$gdp_pc, df$energy_pc, xlab='GDP per capita', ylab='Energy use per capita')"
   ]
  },
  {
   "cell_type": "markdown",
   "metadata": {},
   "source": [
    "**(c)** Calculate the sample mean of GDP per capita, sample mean of energy per capita,\n",
    "covariance of GDP per capita and energy use per capita, and variance of GDP per\n",
    "capita."
   ]
  },
  {
   "cell_type": "code",
   "execution_count": 4,
   "metadata": {},
   "outputs": [
    {
     "data": {
      "text/html": [
       "<style>\n",
       ".list-inline {list-style: none; margin:0; padding: 0}\n",
       ".list-inline>li {display: inline-block}\n",
       ".list-inline>li:not(:last-child)::after {content: \"\\00b7\"; padding: 0 .5ex}\n",
       "</style>\n",
       "<ol class=list-inline><li>15419.2698158678</li><li>0.0032316582767966</li><li>62.272034896757</li><li>326578025.706693</li></ol>\n"
      ],
      "text/latex": [
       "\\begin{enumerate*}\n",
       "\\item 15419.2698158678\n",
       "\\item 0.0032316582767966\n",
       "\\item 62.272034896757\n",
       "\\item 326578025.706693\n",
       "\\end{enumerate*}\n"
      ],
      "text/markdown": [
       "1. 15419.2698158678\n",
       "2. 0.0032316582767966\n",
       "3. 62.272034896757\n",
       "4. 326578025.706693\n",
       "\n",
       "\n"
      ],
      "text/plain": [
       "[1] 1.541927e+04 3.231658e-03 6.227203e+01 3.265780e+08"
      ]
     },
     "metadata": {},
     "output_type": "display_data"
    }
   ],
   "source": [
    "#Get means\n",
    "xbar <-mean(df$gdp_pc)\n",
    "ybar <-mean(df$energy_pc)\n",
    "\n",
    "\n",
    "#Create new columns with residuals (x_i-\\bar{x}) and (y_i-\\bar{y}) as part of df \n",
    "df <- mutate(df, xres= gdp_pc-xbar, yres= energy_pc-ybar) \n",
    "#Create new columns with _i*y_i and x_i^2\n",
    "df <- mutate(df, xy= xres*yres, xx=xres^2)\n",
    "\n",
    "#Get covariance and variance by summing up xy and xx and dividing by n-1. \n",
    "covxy<- sum(df$xy)/(nrow(df)-1)\n",
    "varx<- sum(df$xx)/(nrow(df)-1)\n",
    "\n",
    "#Display results\n",
    "c(xbar, ybar, covxy, varx) #note the use of c to create a vector!"
   ]
  },
  {
   "cell_type": "markdown",
   "metadata": {},
   "source": [
    "**(d)** Suppose $y_i$ is energy use per capita in country $i$ and $x_i$ is GDP per capita in country $i$. Suppose your statistical model is $$y_i=\\beta_0+\\beta_1x_i+u_i.$$ Estimate $\\hat{\\beta}_0$ and $\\hat{\\beta}_1$ using your results in part **(c)**. "
   ]
  },
  {
   "cell_type": "code",
   "execution_count": 5,
   "metadata": {},
   "outputs": [
    {
     "data": {
      "text/html": [
       "<style>\n",
       ".list-inline {list-style: none; margin:0; padding: 0}\n",
       ".list-inline>li {display: inline-block}\n",
       ".list-inline>li:not(:last-child)::after {content: \"\\00b7\"; padding: 0 .5ex}\n",
       "</style>\n",
       "<ol class=list-inline><li>0.000291505442023208</li><li>1.90680419363809e-07</li></ol>\n"
      ],
      "text/latex": [
       "\\begin{enumerate*}\n",
       "\\item 0.000291505442023208\n",
       "\\item 1.90680419363809e-07\n",
       "\\end{enumerate*}\n"
      ],
      "text/markdown": [
       "1. 0.000291505442023208\n",
       "2. 1.90680419363809e-07\n",
       "\n",
       "\n"
      ],
      "text/plain": [
       "[1] 2.915054e-04 1.906804e-07"
      ]
     },
     "metadata": {},
     "output_type": "display_data"
    }
   ],
   "source": [
    "#Solve for \\hat\\beta_1 and \\hat\\beta_0\n",
    "b1hat<- covxy/varx\n",
    "b0hat<- ybar-xbar*b1hat\n",
    "#Display\n",
    "c(b0hat,b1hat)"
   ]
  },
  {
   "cell_type": "markdown",
   "metadata": {},
   "source": [
    "**(e)** Plot a line which indicates the predictions from your estimated model, $$\\hat{y}_i=\\hat{\\beta}_0+\\hat{\\beta}_1x_i.$$ *Hint: use the* `curve` *function.*"
   ]
  },
  {
   "cell_type": "code",
   "execution_count": 6,
   "metadata": {},
   "outputs": [
    {
     "data": {
      "image/png": "[encoded data removed]",
      "text/plain": [
       "plot without title"
      ]
     },
     "metadata": {
      "image/png": {
       "height": 420,
       "width": 420
      }
     },
     "output_type": "display_data"
    }
   ],
   "source": [
    "#plot the line\n",
    "curve(b0hat+b1hat*x, min(df$gdp_pc), max(df$gdp_pc), xlab='GDP per capita', ylab = 'Energy use per capita')\n",
    "#overlay with data points\n",
    "points(df$gdp_pc,df$energy_pc)"
   ]
  },
  {
   "cell_type": "markdown",
   "metadata": {},
   "source": [
    "**(f)** Interpret your estimates $\\hat{\\beta}_0$ and $\\hat{\\beta}_1$."
   ]
  },
  {
   "cell_type": "markdown",
   "metadata": {},
   "source": [
    "$\\hat\\beta_0=$0.00003 means that the model predicts that a country with 0 GDP would have energy use equivalent to .0003 KT of oil. $\\hat\\beta_1=$1.9e-07 means that model predicts that each additional dollar of GDP leads to 1.9e-07 addition KT of oil equivalent energy use. "
   ]
  },
  {
   "cell_type": "markdown",
   "metadata": {},
   "source": [
    "## Part 2.\n",
    "Suppose you estimate a weekly wage equation which suggests \n",
    "\n",
    "$$ \\log(wage_i)=5.45+.09*Ed_i+u_i$$ \n",
    "\n",
    "where $Ed_i$ is the number of years of education completed by person $i$. \n",
    "\n",
    "**(a)** Predict the wage for a person with 12 years of education (that is a person who completes high school)."
   ]
  },
  {
   "cell_type": "code",
   "execution_count": 7,
   "metadata": {},
   "outputs": [
    {
     "data": {
      "text/html": [
       "685.398211491809"
      ],
      "text/latex": [
       "685.398211491809"
      ],
      "text/markdown": [
       "685.398211491809"
      ],
      "text/plain": [
       "[1] 685.3982"
      ]
     },
     "metadata": {},
     "output_type": "display_data"
    }
   ],
   "source": [
    "exp(5.45+.09*12)"
   ]
  },
  {
   "cell_type": "markdown",
   "metadata": {},
   "source": [
    "**(b)** Interpret your estimated $\\beta_1=$0.09."
   ]
  },
  {
   "cell_type": "markdown",
   "metadata": {},
   "source": [
    "An additional year of education is associated with 9% higher weekly wages. "
   ]
  }
 ],
 "metadata": {
  "kernelspec": {
   "display_name": "R",
   "language": "R",
   "name": "ir"
  },
  "language_info": {
   "codemirror_mode": "r",
   "file_extension": ".r",
   "mimetype": "text/x-r-source",
   "name": "R",
   "pygments_lexer": "r",
   "version": "3.5.2"
  }
 },
 "nbformat": 4,
 "nbformat_minor": 4
}
