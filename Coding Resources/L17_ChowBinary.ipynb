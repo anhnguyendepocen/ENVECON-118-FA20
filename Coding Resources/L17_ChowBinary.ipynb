{
 "cells": [
  {
   "cell_type": "code",
   "execution_count": 2,
   "metadata": {},
   "outputs": [],
   "source": [
    "library(haven)\n",
    "wagedata<-read_dta(\"WAGE1.DTA\")"
   ]
  },
  {
   "cell_type": "code",
   "execution_count": 2,
   "metadata": {},
   "outputs": [
    {
     "data": {
      "text/plain": [
       "\n",
       "Call:\n",
       "lm(formula = lwage ~ female + educ + exper + tenure, data = wagedata)\n",
       "\n",
       "Residuals:\n",
       "     Min       1Q   Median       3Q      Max \n",
       "-1.91588 -0.26192 -0.02399  0.26349  1.27352 \n",
       "\n",
       "Coefficients:\n",
       "             Estimate Std. Error t value Pr(>|t|)    \n",
       "(Intercept)  0.501348   0.101902   4.920 1.16e-06 ***\n",
       "female      -0.301146   0.037246  -8.085 4.37e-15 ***\n",
       "educ         0.087462   0.006939  12.605  < 2e-16 ***\n",
       "exper        0.004629   0.001627   2.845  0.00461 ** \n",
       "tenure       0.017367   0.002976   5.835 9.45e-09 ***\n",
       "---\n",
       "Signif. codes:  0 ‘***’ 0.001 ‘**’ 0.01 ‘*’ 0.05 ‘.’ 0.1 ‘ ’ 1\n",
       "\n",
       "Residual standard error: 0.416 on 521 degrees of freedom\n",
       "Multiple R-squared:  0.3923,\tAdjusted R-squared:  0.3876 \n",
       "F-statistic: 84.07 on 4 and 521 DF,  p-value: < 2.2e-16\n"
      ]
     },
     "metadata": {},
     "output_type": "display_data"
    }
   ],
   "source": [
    "#baseline regression\n",
    "reg1<- lm(lwage~female + educ + exper + tenure, data = wagedata)\n",
    "summary(reg1)"
   ]
  },
  {
   "cell_type": "code",
   "execution_count": 3,
   "metadata": {},
   "outputs": [
    {
     "data": {
      "text/plain": [
       "\n",
       "Call:\n",
       "lm(formula = lwage ~ female * educ + exper + tenure, data = wagedata)\n",
       "\n",
       "Residuals:\n",
       "     Min       1Q   Median       3Q      Max \n",
       "-1.91695 -0.26530 -0.02059  0.25715  1.27586 \n",
       "\n",
       "Coefficients:\n",
       "             Estimate Std. Error t value Pr(>|t|)    \n",
       "(Intercept)  0.464712   0.122892   3.781 0.000174 ***\n",
       "female      -0.210376   0.173969  -1.209 0.227107    \n",
       "educ         0.090276   0.008715  10.359  < 2e-16 ***\n",
       "exper        0.004642   0.001628   2.850 0.004541 ** \n",
       "tenure       0.017436   0.002981   5.849 8.76e-09 ***\n",
       "female:educ -0.007245   0.013562  -0.534 0.593456    \n",
       "---\n",
       "Signif. codes:  0 ‘***’ 0.001 ‘**’ 0.01 ‘*’ 0.05 ‘.’ 0.1 ‘ ’ 1\n",
       "\n",
       "Residual standard error: 0.4162 on 520 degrees of freedom\n",
       "Multiple R-squared:  0.3926,\tAdjusted R-squared:  0.3868 \n",
       "F-statistic: 67.22 on 5 and 520 DF,  p-value: < 2.2e-16\n"
      ]
     },
     "metadata": {},
     "output_type": "display_data"
    }
   ],
   "source": [
    "#allow interaction with education\n",
    "reg2<-lm(lwage~female * educ + exper + tenure, data = wagedata)\n",
    "summary(reg2)"
   ]
  },
  {
   "cell_type": "code",
   "execution_count": 6,
   "metadata": {},
   "outputs": [
    {
     "data": {
      "text/plain": [
       "\n",
       "Call:\n",
       "lm(formula = lwage ~ educ + exper + tenure, data = wagedata)\n",
       "\n",
       "Residuals:\n",
       "     Min       1Q   Median       3Q      Max \n",
       "-2.05802 -0.29645 -0.03265  0.28788  1.42809 \n",
       "\n",
       "Coefficients:\n",
       "            Estimate Std. Error t value Pr(>|t|)    \n",
       "(Intercept) 0.284360   0.104190   2.729  0.00656 ** \n",
       "educ        0.092029   0.007330  12.555  < 2e-16 ***\n",
       "exper       0.004121   0.001723   2.391  0.01714 *  \n",
       "tenure      0.022067   0.003094   7.133 3.29e-12 ***\n",
       "---\n",
       "Signif. codes:  0 ‘***’ 0.001 ‘**’ 0.01 ‘*’ 0.05 ‘.’ 0.1 ‘ ’ 1\n",
       "\n",
       "Residual standard error: 0.4409 on 522 degrees of freedom\n",
       "Multiple R-squared:  0.316,\tAdjusted R-squared:  0.3121 \n",
       "F-statistic: 80.39 on 3 and 522 DF,  p-value: < 2.2e-16\n"
      ]
     },
     "metadata": {},
     "output_type": "display_data"
    },
    {
     "data": {
      "text/html": [
       "101.455573831414"
      ],
      "text/latex": [
       "101.455573831414"
      ],
      "text/markdown": [
       "101.455573831414"
      ],
      "text/plain": [
       "[1] 101.4556"
      ]
     },
     "metadata": {},
     "output_type": "display_data"
    },
    {
     "data": {
      "text/html": [
       "526"
      ],
      "text/latex": [
       "526"
      ],
      "text/markdown": [
       "526"
      ],
      "text/plain": [
       "[1] 526"
      ]
     },
     "metadata": {},
     "output_type": "display_data"
    }
   ],
   "source": [
    "#chow test\n",
    "#restricted regression\n",
    "reg1<- lm(lwage~ educ + exper + tenure, data = wagedata)\n",
    "summary(reg1)\n",
    "#calculate sum of squared residuals\n",
    "SSR_r <- sum(reg1$residuals^2)\n",
    "SSR_r\n",
    "#calculate n\n",
    "n_all <- nobs(reg1)\n",
    "n_all"
   ]
  },
  {
   "cell_type": "code",
   "execution_count": 5,
   "metadata": {},
   "outputs": [
    {
     "data": {
      "text/plain": [
       "\n",
       "Call:\n",
       "lm(formula = lwage ~ educ + exper + tenure, data = wagedata, \n",
       "    subset = (female == 1))\n",
       "\n",
       "Residuals:\n",
       "     Min       1Q   Median       3Q      Max \n",
       "-1.96850 -0.23365 -0.06671  0.21956  1.17698 \n",
       "\n",
       "Coefficients:\n",
       "            Estimate Std. Error t value Pr(>|t|)    \n",
       "(Intercept) 0.356116   0.141063   2.525   0.0122 *  \n",
       "educ        0.080036   0.010462   7.650 4.44e-13 ***\n",
       "exper       0.002268   0.002105   1.077   0.2823    \n",
       "tenure      0.010274   0.005223   1.967   0.0503 .  \n",
       "---\n",
       "Signif. codes:  0 ‘***’ 0.001 ‘**’ 0.01 ‘*’ 0.05 ‘.’ 0.1 ‘ ’ 1\n",
       "\n",
       "Residual standard error: 0.3967 on 248 degrees of freedom\n",
       "Multiple R-squared:  0.2119,\tAdjusted R-squared:  0.2024 \n",
       "F-statistic: 22.23 on 3 and 248 DF,  p-value: 8.771e-13\n"
      ]
     },
     "metadata": {},
     "output_type": "display_data"
    },
    {
     "data": {
      "text/html": [
       "39.0352989297953"
      ],
      "text/latex": [
       "39.0352989297953"
      ],
      "text/markdown": [
       "39.0352989297953"
      ],
      "text/plain": [
       "[1] 39.0353"
      ]
     },
     "metadata": {},
     "output_type": "display_data"
    }
   ],
   "source": [
    "#Female-only regression\n",
    "reg3<-lm(lwage~ educ + exper + tenure, data = wagedata, subset = (female==1))\n",
    "summary(reg3)\n",
    "SSR_F <- sum(reg3$residuals^2)\n",
    "SSR_F"
   ]
  },
  {
   "cell_type": "code",
   "execution_count": 7,
   "metadata": {},
   "outputs": [
    {
     "data": {
      "text/plain": [
       "\n",
       "Call:\n",
       "lm(formula = lwage ~ educ + exper + tenure, data = wagedata, \n",
       "    subset = (female == 0))\n",
       "\n",
       "Residuals:\n",
       "    Min      1Q  Median      3Q     Max \n",
       "-1.4849 -0.2784 -0.0103  0.2665  1.2670 \n",
       "\n",
       "Coefficients:\n",
       "            Estimate Std. Error t value Pr(>|t|)    \n",
       "(Intercept) 0.321899   0.139460   2.308  0.02174 *  \n",
       "educ        0.096264   0.009352  10.294  < 2e-16 ***\n",
       "exper       0.008127   0.002496   3.256  0.00128 ** \n",
       "tenure      0.018213   0.003769   4.832 2.27e-06 ***\n",
       "---\n",
       "Signif. codes:  0 ‘***’ 0.001 ‘**’ 0.01 ‘*’ 0.05 ‘.’ 0.1 ‘ ’ 1\n",
       "\n",
       "Residual standard error: 0.4284 on 270 degrees of freedom\n",
       "Multiple R-squared:  0.3655,\tAdjusted R-squared:  0.3584 \n",
       "F-statistic: 51.84 on 3 and 270 DF,  p-value: < 2.2e-16\n"
      ]
     },
     "metadata": {},
     "output_type": "display_data"
    },
    {
     "data": {
      "text/html": [
       "49.5471911687156"
      ],
      "text/latex": [
       "49.5471911687156"
      ],
      "text/markdown": [
       "49.5471911687156"
      ],
      "text/plain": [
       "[1] 49.54719"
      ]
     },
     "metadata": {},
     "output_type": "display_data"
    }
   ],
   "source": [
    "#Male-only regerssion\n",
    "reg4<-lm(lwage~ educ + exper + tenure, data = wagedata, subset = (female==0))\n",
    "summary(reg4)\n",
    "SSR_M<- sum(reg4$residuals^2)\n",
    "SSR_M\n"
   ]
  },
  {
   "cell_type": "code",
   "execution_count": 8,
   "metadata": {},
   "outputs": [
    {
     "data": {
      "text/html": [
       "18.8193438856488"
      ],
      "text/latex": [
       "18.8193438856488"
      ],
      "text/markdown": [
       "18.8193438856488"
      ],
      "text/plain": [
       "[1] 18.81934"
      ]
     },
     "metadata": {},
     "output_type": "display_data"
    }
   ],
   "source": [
    "#Calculate F-statistic for Chow test\n",
    "Chow<-((SSR_r-(SSR_F + SSR_M))/(3+1))/((SSR_F + SSR_M)/(n_all-2*(3+1)))\n",
    "Chow"
   ]
  },
  {
   "cell_type": "code",
   "execution_count": 3,
   "metadata": {},
   "outputs": [
    {
     "data": {
      "text/html": [
       "<table>\n",
       "<caption>A tibble: 6 × 22</caption>\n",
       "<thead>\n",
       "\t<tr><th scope=col>inlf</th><th scope=col>hours</th><th scope=col>kidslt6</th><th scope=col>kidsge6</th><th scope=col>age</th><th scope=col>educ</th><th scope=col>wage</th><th scope=col>repwage</th><th scope=col>hushrs</th><th scope=col>husage</th><th scope=col>⋯</th><th scope=col>faminc</th><th scope=col>mtr</th><th scope=col>motheduc</th><th scope=col>fatheduc</th><th scope=col>unem</th><th scope=col>city</th><th scope=col>exper</th><th scope=col>nwifeinc</th><th scope=col>lwage</th><th scope=col>expersq</th></tr>\n",
       "\t<tr><th scope=col>&lt;dbl&gt;</th><th scope=col>&lt;dbl&gt;</th><th scope=col>&lt;dbl&gt;</th><th scope=col>&lt;dbl&gt;</th><th scope=col>&lt;dbl&gt;</th><th scope=col>&lt;dbl&gt;</th><th scope=col>&lt;dbl&gt;</th><th scope=col>&lt;dbl&gt;</th><th scope=col>&lt;dbl&gt;</th><th scope=col>&lt;dbl&gt;</th><th scope=col>⋯</th><th scope=col>&lt;dbl&gt;</th><th scope=col>&lt;dbl&gt;</th><th scope=col>&lt;dbl&gt;</th><th scope=col>&lt;dbl&gt;</th><th scope=col>&lt;dbl&gt;</th><th scope=col>&lt;dbl&gt;</th><th scope=col>&lt;dbl&gt;</th><th scope=col>&lt;dbl&gt;</th><th scope=col>&lt;dbl&gt;</th><th scope=col>&lt;dbl&gt;</th></tr>\n",
       "</thead>\n",
       "<tbody>\n",
       "\t<tr><td>1</td><td>1610</td><td>1</td><td>0</td><td>32</td><td>12</td><td>3.3540</td><td>2.65</td><td>2708</td><td>34</td><td>⋯</td><td>16310</td><td>0.7215</td><td>12</td><td> 7</td><td> 5.0</td><td>0</td><td>14</td><td>10.910060</td><td>1.21015370</td><td> 196</td></tr>\n",
       "\t<tr><td>1</td><td>1656</td><td>0</td><td>2</td><td>30</td><td>12</td><td>1.3889</td><td>2.65</td><td>2310</td><td>30</td><td>⋯</td><td>21800</td><td>0.6615</td><td> 7</td><td> 7</td><td>11.0</td><td>1</td><td> 5</td><td>19.499981</td><td>0.32851210</td><td>  25</td></tr>\n",
       "\t<tr><td>1</td><td>1980</td><td>1</td><td>3</td><td>35</td><td>12</td><td>4.5455</td><td>4.04</td><td>3072</td><td>40</td><td>⋯</td><td>21040</td><td>0.6915</td><td>12</td><td> 7</td><td> 5.0</td><td>0</td><td>15</td><td>12.039910</td><td>1.51413774</td><td> 225</td></tr>\n",
       "\t<tr><td>1</td><td> 456</td><td>0</td><td>3</td><td>34</td><td>12</td><td>1.0965</td><td>3.25</td><td>1920</td><td>53</td><td>⋯</td><td> 7300</td><td>0.7815</td><td> 7</td><td> 7</td><td> 5.0</td><td>0</td><td> 6</td><td> 6.799996</td><td>0.09212332</td><td>  36</td></tr>\n",
       "\t<tr><td>1</td><td>1568</td><td>1</td><td>2</td><td>31</td><td>14</td><td>4.5918</td><td>3.60</td><td>2000</td><td>32</td><td>⋯</td><td>27300</td><td>0.6215</td><td>12</td><td>14</td><td> 9.5</td><td>1</td><td> 7</td><td>20.100058</td><td>1.52427220</td><td>  49</td></tr>\n",
       "\t<tr><td>1</td><td>2032</td><td>0</td><td>0</td><td>54</td><td>12</td><td>4.7421</td><td>4.70</td><td>1040</td><td>57</td><td>⋯</td><td>19495</td><td>0.6915</td><td>14</td><td> 7</td><td> 7.5</td><td>1</td><td>33</td><td> 9.859054</td><td>1.55648005</td><td>1089</td></tr>\n",
       "</tbody>\n",
       "</table>\n"
      ],
      "text/latex": [
       "A tibble: 6 × 22\n",
       "\\begin{tabular}{r|llllllllllllllllllllll}\n",
       " inlf & hours & kidslt6 & kidsge6 & age & educ & wage & repwage & hushrs & husage & huseduc & huswage & faminc & mtr & motheduc & fatheduc & unem & city & exper & nwifeinc & lwage & expersq\\\\\n",
       " <dbl> & <dbl> & <dbl> & <dbl> & <dbl> & <dbl> & <dbl> & <dbl> & <dbl> & <dbl> & <dbl> & <dbl> & <dbl> & <dbl> & <dbl> & <dbl> & <dbl> & <dbl> & <dbl> & <dbl> & <dbl> & <dbl>\\\\\n",
       "\\hline\n",
       "\t 1 & 1610 & 1 & 0 & 32 & 12 & 3.3540 & 2.65 & 2708 & 34 & 12 &  4.0288 & 16310 & 0.7215 & 12 &  7 &  5.0 & 0 & 14 & 10.910060 & 1.21015370 &  196\\\\\n",
       "\t 1 & 1656 & 0 & 2 & 30 & 12 & 1.3889 & 2.65 & 2310 & 30 &  9 &  8.4416 & 21800 & 0.6615 &  7 &  7 & 11.0 & 1 &  5 & 19.499981 & 0.32851210 &   25\\\\\n",
       "\t 1 & 1980 & 1 & 3 & 35 & 12 & 4.5455 & 4.04 & 3072 & 40 & 12 &  3.5807 & 21040 & 0.6915 & 12 &  7 &  5.0 & 0 & 15 & 12.039910 & 1.51413774 &  225\\\\\n",
       "\t 1 &  456 & 0 & 3 & 34 & 12 & 1.0965 & 3.25 & 1920 & 53 & 10 &  3.5417 &  7300 & 0.7815 &  7 &  7 &  5.0 & 0 &  6 &  6.799996 & 0.09212332 &   36\\\\\n",
       "\t 1 & 1568 & 1 & 2 & 31 & 14 & 4.5918 & 3.60 & 2000 & 32 & 12 & 10.0000 & 27300 & 0.6215 & 12 & 14 &  9.5 & 1 &  7 & 20.100058 & 1.52427220 &   49\\\\\n",
       "\t 1 & 2032 & 0 & 0 & 54 & 12 & 4.7421 & 4.70 & 1040 & 57 & 11 &  6.7106 & 19495 & 0.6915 & 14 &  7 &  7.5 & 1 & 33 &  9.859054 & 1.55648005 & 1089\\\\\n",
       "\\end{tabular}\n"
      ],
      "text/markdown": [
       "\n",
       "A tibble: 6 × 22\n",
       "\n",
       "| inlf &lt;dbl&gt; | hours &lt;dbl&gt; | kidslt6 &lt;dbl&gt; | kidsge6 &lt;dbl&gt; | age &lt;dbl&gt; | educ &lt;dbl&gt; | wage &lt;dbl&gt; | repwage &lt;dbl&gt; | hushrs &lt;dbl&gt; | husage &lt;dbl&gt; | ⋯ ⋯ | faminc &lt;dbl&gt; | mtr &lt;dbl&gt; | motheduc &lt;dbl&gt; | fatheduc &lt;dbl&gt; | unem &lt;dbl&gt; | city &lt;dbl&gt; | exper &lt;dbl&gt; | nwifeinc &lt;dbl&gt; | lwage &lt;dbl&gt; | expersq &lt;dbl&gt; |\n",
       "|---|---|---|---|---|---|---|---|---|---|---|---|---|---|---|---|---|---|---|---|---|\n",
       "| 1 | 1610 | 1 | 0 | 32 | 12 | 3.3540 | 2.65 | 2708 | 34 | ⋯ | 16310 | 0.7215 | 12 |  7 |  5.0 | 0 | 14 | 10.910060 | 1.21015370 |  196 |\n",
       "| 1 | 1656 | 0 | 2 | 30 | 12 | 1.3889 | 2.65 | 2310 | 30 | ⋯ | 21800 | 0.6615 |  7 |  7 | 11.0 | 1 |  5 | 19.499981 | 0.32851210 |   25 |\n",
       "| 1 | 1980 | 1 | 3 | 35 | 12 | 4.5455 | 4.04 | 3072 | 40 | ⋯ | 21040 | 0.6915 | 12 |  7 |  5.0 | 0 | 15 | 12.039910 | 1.51413774 |  225 |\n",
       "| 1 |  456 | 0 | 3 | 34 | 12 | 1.0965 | 3.25 | 1920 | 53 | ⋯ |  7300 | 0.7815 |  7 |  7 |  5.0 | 0 |  6 |  6.799996 | 0.09212332 |   36 |\n",
       "| 1 | 1568 | 1 | 2 | 31 | 14 | 4.5918 | 3.60 | 2000 | 32 | ⋯ | 27300 | 0.6215 | 12 | 14 |  9.5 | 1 |  7 | 20.100058 | 1.52427220 |   49 |\n",
       "| 1 | 2032 | 0 | 0 | 54 | 12 | 4.7421 | 4.70 | 1040 | 57 | ⋯ | 19495 | 0.6915 | 14 |  7 |  7.5 | 1 | 33 |  9.859054 | 1.55648005 | 1089 |\n",
       "\n"
      ],
      "text/plain": [
       "  inlf hours kidslt6 kidsge6 age educ wage   repwage hushrs husage ⋯ faminc\n",
       "1 1    1610  1       0       32  12   3.3540 2.65    2708   34     ⋯ 16310 \n",
       "2 1    1656  0       2       30  12   1.3889 2.65    2310   30     ⋯ 21800 \n",
       "3 1    1980  1       3       35  12   4.5455 4.04    3072   40     ⋯ 21040 \n",
       "4 1     456  0       3       34  12   1.0965 3.25    1920   53     ⋯  7300 \n",
       "5 1    1568  1       2       31  14   4.5918 3.60    2000   32     ⋯ 27300 \n",
       "6 1    2032  0       0       54  12   4.7421 4.70    1040   57     ⋯ 19495 \n",
       "  mtr    motheduc fatheduc unem city exper nwifeinc  lwage      expersq\n",
       "1 0.7215 12        7        5.0 0    14    10.910060 1.21015370  196   \n",
       "2 0.6615  7        7       11.0 1     5    19.499981 0.32851210   25   \n",
       "3 0.6915 12        7        5.0 0    15    12.039910 1.51413774  225   \n",
       "4 0.7815  7        7        5.0 0     6     6.799996 0.09212332   36   \n",
       "5 0.6215 12       14        9.5 1     7    20.100058 1.52427220   49   \n",
       "6 0.6915 14        7        7.5 1    33     9.859054 1.55648005 1089   "
      ]
     },
     "metadata": {},
     "output_type": "display_data"
    }
   ],
   "source": [
    "LFPdata<-read_dta(\"MROZ.DTA\")\n",
    "head(LFPdata)"
   ]
  },
  {
   "cell_type": "code",
   "execution_count": 4,
   "metadata": {},
   "outputs": [
    {
     "data": {
      "text/plain": [
       "\n",
       "Call:\n",
       "lm(formula = inlf ~ nwifeinc + educ + exper + expersq + age + \n",
       "    kidslt6 + kidsge6, data = LFPdata)\n",
       "\n",
       "Residuals:\n",
       "     Min       1Q   Median       3Q      Max \n",
       "-0.93432 -0.37526  0.08833  0.34404  0.99417 \n",
       "\n",
       "Coefficients:\n",
       "              Estimate Std. Error t value Pr(>|t|)    \n",
       "(Intercept)  0.5855192  0.1541780   3.798 0.000158 ***\n",
       "nwifeinc    -0.0034052  0.0014485  -2.351 0.018991 *  \n",
       "educ         0.0379953  0.0073760   5.151 3.32e-07 ***\n",
       "exper        0.0394924  0.0056727   6.962 7.38e-12 ***\n",
       "expersq     -0.0005963  0.0001848  -3.227 0.001306 ** \n",
       "age         -0.0160908  0.0024847  -6.476 1.71e-10 ***\n",
       "kidslt6     -0.2618105  0.0335058  -7.814 1.89e-14 ***\n",
       "kidsge6      0.0130122  0.0131960   0.986 0.324415    \n",
       "---\n",
       "Signif. codes:  0 ‘***’ 0.001 ‘**’ 0.01 ‘*’ 0.05 ‘.’ 0.1 ‘ ’ 1\n",
       "\n",
       "Residual standard error: 0.4271 on 745 degrees of freedom\n",
       "Multiple R-squared:  0.2642,\tAdjusted R-squared:  0.2573 \n",
       "F-statistic: 38.22 on 7 and 745 DF,  p-value: < 2.2e-16\n"
      ]
     },
     "metadata": {},
     "output_type": "display_data"
    }
   ],
   "source": [
    "reg5<- lm(inlf~nwifeinc + educ + exper + expersq + age + kidslt6 + kidsge6, data = LFPdata)\n",
    "summary(reg5)"
   ]
  },
  {
   "cell_type": "code",
   "execution_count": null,
   "metadata": {},
   "outputs": [],
   "source": [
    "wagedata2<-read_dta(\"WAGE2.DTA\")\n",
    "head(wagedata2)"
   ]
  },
  {
   "cell_type": "code",
   "execution_count": null,
   "metadata": {},
   "outputs": [],
   "source": [
    "#baseline regression\n",
    "reg6<-lm(lwage ~ educ + exper, data = wagedata2)\n",
    "summary(reg6)"
   ]
  },
  {
   "cell_type": "code",
   "execution_count": null,
   "metadata": {},
   "outputs": [],
   "source": [
    "#regression with proxy variable\n",
    "reg7<- lm(lwage ~ educ + exper + IQ, data = wagedata2)\n",
    "summary(reg7)"
   ]
  },
  {
   "cell_type": "code",
   "execution_count": null,
   "metadata": {},
   "outputs": [],
   "source": []
  }
 ],
 "metadata": {
  "kernelspec": {
   "display_name": "R",
   "language": "R",
   "name": "ir"
  },
  "language_info": {
   "codemirror_mode": "r",
   "file_extension": ".r",
   "mimetype": "text/x-r-source",
   "name": "R",
   "pygments_lexer": "r",
   "version": "3.4.4"
  }
 },
 "nbformat": 4,
 "nbformat_minor": 2
}
