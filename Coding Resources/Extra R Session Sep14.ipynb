{
 "cells": [
  {
   "cell_type": "markdown",
   "metadata": {},
   "source": [
    "# R Extra Review Section 9/14\n",
    "\n",
    "Today we are going to go over the following topics:\n",
    "\n",
    "- Data wrangling\n",
    "    - Indexing and subsetting\n",
    "    - Manipulating variables\n",
    "- Plotting:\n",
    "    - `plot()` \n",
    "    - `curve()`\n",
    "    - `ggplot()`\n",
    "- Regression:\n",
    "    -hand-cooked\n",
    "    - `lm()`\n",
    "- Other issues you've been having\n",
    "\n",
    "Megan will be holding an in-depth review of the solutions to Small Assignment 1 tomorrow.\n",
    "\n",
    "## Data Wrangling\n",
    "\n",
    "Let's start by reading in our favorite toy dataset, `autos.dta`, for which we will need the `haven` package. We also might as well load the `tidyverse` library while we're at it. "
   ]
  },
  {
   "cell_type": "code",
   "execution_count": null,
   "metadata": {},
   "outputs": [],
   "source": [
    "#Load libraries\n",
    "library(haven, tidyverse)\n",
    "#Read in data\n",
    "df <- read_dta('autos.dta')\n",
    "#Display the head\n",
    "head(df)"
   ]
  },
  {
   "cell_type": "markdown",
   "metadata": {},
   "source": [
    "### Object Oriented Programming\n",
    "What would happen if we didn't assign the data to the object 'df'?"
   ]
  },
  {
   "cell_type": "code",
   "execution_count": null,
   "metadata": {},
   "outputs": [],
   "source": [
    "#Clear the objects from the workspace\n",
    "rm(list=ls())\n",
    "read_dta('autos.dta')\n",
    "head('autos.dta')\n"
   ]
  },
  {
   "cell_type": "markdown",
   "metadata": {},
   "source": [
    "Recall that **R** doesn't store data in memory unless we assign it to an *object*. Since we didn't assign `autos.dta` a name, the `head()` command just thought we wanted to see the first 5 lines of the string (text fragmnet) 'autos.dta'. Not very useful. Reformed Stata users generally struggle with this at first. \n",
    "\n",
    "Let's re-read the data back in properly and look a bit more at the types of **R** objects we might deal with. "
   ]
  },
  {
   "cell_type": "code",
   "execution_count": null,
   "metadata": {},
   "outputs": [],
   "source": [
    "df <- read_dta('autos.dta')\n",
    "\n",
    "#Class of object df\n",
    "paste('Class of data frame df is:', class(df)[3])\n",
    "paste('Class of variable rep78 is:', class(df$rep78))\n",
    "paste('Class of variable make is:',class(df$make)) \n"
   ]
  },
  {
   "cell_type": "markdown",
   "metadata": {},
   "source": [
    "Objects in **R** can be pretty general. We might store scalars (numbers), plots, functions, text strings or a whole bunch of other stuff. As you can see above, **R** assigns these objects different classes. We probably won't be doing too much with these in this course, but it's good to know for general programming in **R** and if you're getting a weird error message, it may be that your variable is of the wrong class. \n",
    "\n",
    "### Indexing\n",
    "\n",
    "Most of the time, we will be dealing with data frames. As you can see, when we read a .dta or .csv file into **R** it takes on the class 'data.frame'. Data frames are useful because we can either treat them like matrices, or like an excel sheet with well-defined column names. For example, the following two lines both return 3. "
   ]
  },
  {
   "cell_type": "code",
   "execution_count": null,
   "metadata": {},
   "outputs": [],
   "source": [
    "df$headroom[3]\n",
    "df[3,5]\n"
   ]
  },
  {
   "cell_type": "markdown",
   "metadata": {},
   "source": [
    "(The difference is that the former returns a 1x1 data frame that just contains 3, while the latter is just the number 3). But the key point is that we can either ask **R** for the 3rd row in column 5 or the 3rd observation in the variable 'headroom'. (*note for Python users,* **R** *indices start at 1 rather than 0*). \n",
    "\n",
    "Note that when we deal with two-dimensional objects, we index the row first and the column second. If we leave out one of the arguments (but still keep the comma in place) we get either the entire row or the entire column, respectively. Can you figure out what the following commands index?"
   ]
  },
  {
   "cell_type": "code",
   "execution_count": null,
   "metadata": {},
   "outputs": [],
   "source": [
    "#Create a vector of the first 10 prime numbers\n",
    "x <- c(2,3,5,7,11,13,17,19,23,29)\n",
    "#Play around with indexing\n",
    "x[2:4]\n",
    "x[-1]\n",
    "x[c(1,5,9)]\n",
    "x[c(9,1,5)]\n",
    "x[-c(2,4:9)]"
   ]
  },
  {
   "cell_type": "markdown",
   "metadata": {},
   "source": [
    "The `c()` command will come in handy when you want to combine different elements for one command."
   ]
  },
  {
   "cell_type": "markdown",
   "metadata": {},
   "source": [
    "### Data Manipulation and Subsetting\n",
    "\n",
    "There are multiple ways to create new variables in **R**. One way is just to assign it to a new object. Another is to add a new column to the data frame by specifying `df$new_col`. Perhaps the most efficient way is with the `mutate()` function, where in the first argument you specify the data frame you want to alter and in the second you specify `newvar=expr`. "
   ]
  },
  {
   "cell_type": "code",
   "execution_count": null,
   "metadata": {},
   "outputs": [],
   "source": [
    "price_thou <- df$price/1000\n",
    "df$weight_tons <- df$weight/2000\n",
    "head(df)\n",
    "df <- mutate(df, price_thou=price/1000)\n",
    "head(df)"
   ]
  },
  {
   "cell_type": "markdown",
   "metadata": {},
   "source": [
    "You also might want to drop variables, or keep only certain rows. We refer to this as subsetting. Below are a few of the functions you can use to do this:\n",
    "\n",
    "* `subset()` keeps the rows of df2 where the statement to the right of the comma is true\n",
    "* We can also put an expression instead of an index number. This replaces df3 with the subset of rows in df3, where mpg is 14 or 18\n",
    "* The next line keeps only columns that have no missing values\n",
    "* The next line uses the select function to specify a list of variables in df3 to keep (using the `c()` function)\n",
    "* The minus sign in the last line indicates that we want to drop these variables"
   ]
  },
  {
   "cell_type": "code",
   "execution_count": null,
   "metadata": {},
   "outputs": [],
   "source": [
    "#Create df3 as the subset of observations that are foreign with less than 30 mpg\n",
    "df3<-subset(df, foreign==1 & mpg<30)\n",
    "head(df3)\n",
    "#Keep if mpg is equal to 14 or 18\n",
    "df3<-df3[df3$mpg==18 | df3$mpg==14,]\n",
    "head(df3)\n",
    "#Drop any variable that contains missing values\n",
    "df3<-df3[,colSums(is.na(df3))==0]\n",
    "head(df3)\n",
    "#Keep the following variables\n",
    "df3 <- select(df3, c(make, price_thou, weight_tons, gear_ratio, trunk))\n",
    "head(df3)\n",
    "#Drop gear ratio and trunk\n",
    "df3 <- select(df3, -gear_ratio, -trunk)\n",
    "head(df3)"
   ]
  },
  {
   "cell_type": "markdown",
   "metadata": {},
   "source": [
    "## Regression\n",
    "\n",
    "Okay, now that we have a better understanding of how to handle our data, let's quickly breeze through our hand-cooked regression example before we introduce the `lm()` function. We promise that this week is the last time we'll make you calculate a regression by hand on an assignment. \n",
    "\n",
    "Suppose our model is $\\text{price}=\\beta_0+\\beta_1 \\text{weight}+u$. Estimate $\\hat\\beta_0$ and $\\hat\\beta_1$."
   ]
  },
  {
   "cell_type": "markdown",
   "metadata": {},
   "source": [
    "Let's try and implement the steps Jeremy did in his excel demonstration using as efficient **R** code as possible. Remembering the formulas for sample variance and covariance $$cov(x,y)=\\frac{\\sum_{i=1}^N(x_i-\\bar x)(y_i-\\bar y)}{N-1},\\;\\;\\;var(x)=\\frac{\\sum_{i=1}^N(x_i-\\bar x)^2}{N-1}$$ let's construct these ingredients one-by-one."
   ]
  },
  {
   "cell_type": "code",
   "execution_count": null,
   "metadata": {},
   "outputs": [],
   "source": [
    "#Get means\n",
    "xbar<- mean(df$weight)\n",
    "ybar<- mean(df$price)\n",
    "\n",
    "#Calculate x_i-xbar and y_i-ybar\n",
    "df <- mutate(df, xres= weight-xbar, yres=price-ybar)\n",
    "df <- mutate(df, xy= xres*yres, xx=xres^2)\n",
    "\n",
    "##Get covariance and variance by summing up xy and xx and dividing by n-1. \n",
    "covxy<- sum(df$xy)/(nrow(df)-1)\n",
    "varx<- sum(df$xx)/(nrow(df)-1)\n",
    "\n",
    "#Calculate b0 and b1\n",
    "b1 <- covxy/varx\n",
    "b0 <- ybar-b1*xbar\n",
    "\n",
    "#Display coeffs\n",
    "c(b0,b1)"
   ]
  },
  {
   "cell_type": "markdown",
   "metadata": {},
   "source": [
    "Now let's check this against the `lm()` command"
   ]
  },
  {
   "cell_type": "code",
   "execution_count": null,
   "metadata": {},
   "outputs": [],
   "source": [
    "reg <- lm(data=df, price~weight)\n",
    "summary(reg)"
   ]
  },
  {
   "cell_type": "markdown",
   "metadata": {},
   "source": [
    "Looks good! A few notes about the `lm()` function. \n",
    "* We could also have written `lm(df$price~df$weight)`\n",
    "* To get the r-squared, we could just write `summary(reg)$r.squared`. We can also use similar syntax to extract coefficients and other statistics we'll learn about later. \n",
    "* If we wanted to extend this to a multiple regression model, we could write the regression expression as `price~weight+mpg+headroom` etc. "
   ]
  },
  {
   "cell_type": "markdown",
   "metadata": {},
   "source": [
    "## Plotting\n",
    "\n",
    "Plotting in **R** can be really simple, but there are plenty of tools to make plots super fancy as well. The simplest plot you can make is a scatter plot, which is done as follows"
   ]
  },
  {
   "cell_type": "code",
   "execution_count": null,
   "metadata": {},
   "outputs": [],
   "source": [
    "plot(df$weight, df$price, xlab=\"X label\", ylab=\"Y label\", main=\"Main title\")\n"
   ]
  },
  {
   "cell_type": "markdown",
   "metadata": {},
   "source": [
    "To plot a line graph, just add the option `type='l'`. To plot a histogram, use the `hist` function. Note that the `breaks` option controls how many bins there are. "
   ]
  },
  {
   "cell_type": "code",
   "execution_count": null,
   "metadata": {},
   "outputs": [],
   "source": [
    "hist(x=df$price, breaks= 12, main='Histogram of price', xlab='Price')"
   ]
  },
  {
   "cell_type": "markdown",
   "metadata": {},
   "source": [
    "To plot a function, such as a regression line, one simple way is the `curve()` function. We can also add the `points()` function to overlay the scatter plot and the `abline()` function overlay lines corresponding to different statistics. "
   ]
  },
  {
   "cell_type": "code",
   "execution_count": null,
   "metadata": {},
   "outputs": [],
   "source": [
    "curve(b0+b1*x,0,max(df$weight))\n",
    "points(df$weight, df$price)\n",
    "abline(v=median(df$weight), col='blue', lwd=3)"
   ]
  },
  {
   "cell_type": "markdown",
   "metadata": {},
   "source": [
    "We can even use `abline()` to overlay a regression line on our original scatter plot."
   ]
  },
  {
   "cell_type": "code",
   "execution_count": null,
   "metadata": {},
   "outputs": [],
   "source": [
    "plot(df$weight, df$price, xlab=\"Weight\", ylab=\"Price\", main=\"Regression of price on weight\")\n",
    "abline(lm(df$price~df$weight), col='red')"
   ]
  },
  {
   "cell_type": "markdown",
   "metadata": {},
   "source": [
    "Finally, I'd like to briefly introduce the `ggplot()` package, which is a lot more powerful and flexible (but not necessary for the purposes of this course)"
   ]
  },
  {
   "cell_type": "code",
   "execution_count": null,
   "metadata": {},
   "outputs": [],
   "source": [
    "library(ggplot2)\n",
    "p <- ggplot(data=df, aes(x=weight, y=price))\n",
    "p+geom_point(color='magenta')+theme_minimal()+geom_smooth(method = \"lm\", se=TRUE, color=\"gold\", formula = y ~ x)+labs(x='Weight',y='Price', title='Regression of Price on Weight', subtitle='Unnecessarily Fancy')  + theme(panel.background = element_rect(fill = \"lightblue\", colour = \"lightblue\", size = 0.5, linetype = \"solid\"))"
   ]
  },
  {
   "cell_type": "markdown",
   "metadata": {},
   "source": [
    "That's all for now. Hopefully this answers some of the questions you had. If you still have questions about Small Assignment 1, please tune into Megan's section tomorrow. "
   ]
  }
 ],
 "metadata": {
  "kernelspec": {
   "display_name": "R",
   "language": "R",
   "name": "ir"
  },
  "language_info": {
   "codemirror_mode": "r",
   "file_extension": ".r",
   "mimetype": "text/x-r-source",
   "name": "R",
   "pygments_lexer": "r",
   "version": "3.5.2"
  }
 },
 "nbformat": 4,
 "nbformat_minor": 4
}
