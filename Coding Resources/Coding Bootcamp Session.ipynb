{
 "cells": [
  {
   "cell_type": "markdown",
   "metadata": {},
   "source": [
    "# EEP/IAS 118 - Coding Bootcamp\n",
    "\n",
    "## Introduction to R and Jupyter Notebooks\n",
    "\n",
    "### August 26, 2020"
   ]
  },
  {
   "cell_type": "markdown",
   "metadata": {},
   "source": [
    "## Jupyter Notebook Basics\n",
    "\n",
    "We're going to start off this term by using _Jupyter Notebooks_ to run __R__, our preferred programming language for statistical computing. Jupyter notebooks are an interactive computing environment that lets us combine both text elements and active **R** code. Importantly for us, notebooks let us\n",
    "\n",
    "* Write and run __R__ code through our web browsers, and\n",
    "* Add narrative text that describes our code and the output from said code\n",
    "\n",
    "This means that we can use __R__ without having to install any software on our personal computers, and can ignore errors that might pop up from local conflicts or issues with packages on personal machines. Further, it lets us answer written exercises and coding problems all in one place. \n",
    "\n",
    "When you clicked the section link, you were taken to a folder in your web browser. This folder is hosted on a remote web server through Berkeley's __Datahub__ and should look something like this:\n",
    "\n",
    "\n"
   ]
  },
  {
   "cell_type": "markdown",
   "metadata": {},
   "source": [
    "<p style=\"text-align: center;\"> Datahub Folder </p>\n",
    "\n",
    "<img src=\"images/Section_Screen.png\" width=\"800\" />"
   ]
  },
  {
   "cell_type": "markdown",
   "metadata": {},
   "source": [
    "Today we are doing Coding Resources, so you will want to click on that folder.\n",
    "\n",
    "You should see the following files.\n",
    "\n",
    "1. The first file _Coding Bootcamp Session.ipynb_ is our notebook for today\n",
    "\n",
    "2. _autos.csv_ is a data file in comma separated value (csv) format\n",
    "\n",
    "3. _autos.dta_ is the same data file, but formatted for Stata in .dta format\n",
    "\n",
    "We'll be using both csv and dta data this term, so we'll practice reading in both formats.\n",
    "\n",
    "(There is also a folder of images...don't worry about those!)"
   ]
  },
  {
   "cell_type": "markdown",
   "metadata": {},
   "source": [
    "### Running Jupyter Notebooks\n",
    "\n",
    "Double clicking on the _Coding Bootcamp.ipynb_ notebook will open up the notebook in another browser window. The notebook that opens should look... well, like this!\n",
    "\n",
    "At the top of the page you'll find the menubar and toolbar:\n",
    "\n",
    "<img src=\"images/menubar_toolbar.png\" width=\"800\" />\n",
    "\n",
    "From this menu we can run our code, display our text, save our notebook, and download a pdf or other format of our notebook. \n",
    "\n",
    "Clicking on **File** in the menubar lets us save the notebook and build a checkpoint. You can use **Revert to Checkpoint** to return to previous checkpoints if you want to go back to a previous version of the notebook.\n",
    "\n",
    "**Print Preview** lets you view the notebook as it would look when printed. \n",
    "\n",
    "We will be using the **Download As > PDF via HTML** command to export a pdf copy of the notebook after running all text/code for submission. This is the first option on the menu. \n"
   ]
  },
  {
   "cell_type": "markdown",
   "metadata": {},
   "source": [
    "### Editing Cells\n",
    " \n",
    "This and all notebooks are comprised of a linear collection of boxes, called _cells_. For the sake of this class, we'll be working with two types of cells: *Markdown* cells for text, and *Code* for writing and executing **R** code. \n",
    "\n",
    "Markdown cells support plain text as well as markdown code, html, and LaTeX math mode. For this class, plain text answers are totally fine. If you want to dive into Markdown formatting, [this cheat sheet](https://github.com/adam-p/markdown-here/wiki/Markdown-Cheatsheet) has information on formatting text, building tables, and adding html. If you want to add pretty math equations, see [this LaTeX Math Mode Guide](https://www.overleaf.com/learn/latex/Mathematical_expressions). \n",
    "\n",
    "Select a cell by right clicking on it. A grey box with a blue bar to the left will appear around the cell, like so:\n",
    "\n",
    "<img src=\"images/command_mode.png\" width=\"800\" />\n",
    "\n",
    "This means you are in __command mode__. In command mode you can see the cell type (whether it is markdown for text or code for __R__ commands) in the toolbar but can't edit the content of the cell. \n",
    "\n",
    "To edit the content of cells, double click on the cell to enter __edit mode__. When in edit mode, the box surrounding the cell will turn green - as will the left margin. \n",
    "\n",
    "A text (markdown) cell in edit mode should look like this:\n",
    "\n",
    "<img src=\"images/edit_mode_text.png\" width=\"800\" />\n",
    "\n",
    "and a code (R) cell like this:\n",
    "\n",
    "<img src=\"images/edit_mode_code.png\" width=\"800\" />\n",
    "\n",
    "Use edit mode to type in all your text and code. When you are done with your paragraph or want to try out your code, it's time to run the cell.\n"
   ]
  },
  {
   "cell_type": "markdown",
   "metadata": {},
   "source": [
    "Try selecting this cell by right clicking on it, then double click to enter edit mode. Welcome to EEP 118, you've just done your first task!"
   ]
  },
  {
   "cell_type": "markdown",
   "metadata": {},
   "source": [
    "### Running Cells\n",
    "\n",
    "When you are ready to run a cell (done typing your text in a cell and want to display it in formatted mode, or want to run **R** code), hit `shift` + `enter`, `control` + `enter`, or hit `Run` in the toolbar.\n",
    "\n",
    "Running a text cell will exit edit mode, format the cell's text, and select the next cell down. \n",
    "\n",
    "You can also run a cell from edit or command mode - try this by right clicking on the above cell that you were typing in, and hitting `shift` + `enter`.\n",
    "\n",
    "We'll see later that running code cells will oftentimes add output to our notebook. This will be how we follow what we're doing in **R** and how we'll get our output."
   ]
  },
  {
   "cell_type": "markdown",
   "metadata": {},
   "source": [
    "## R\n",
    "\n",
    "**R** is our programming language for statistical programming. It is open source and free, handles lots of different types of data, and has tons of different packages that allow it to a ton of different things (regression analysis, plotting, working with spatial data, web scraping, creating applications, machine learning to name a few). "
   ]
  },
  {
   "cell_type": "markdown",
   "metadata": {},
   "source": [
    "### R in Code Cells\n",
    "\n",
    "Thanks to *Datahub*, **R** is running in the background of our Jupyter notebooks. As a result, we can type **R** code into code cells, run the cell, and get results all in one place. \n",
    "\n",
    "Let's try it: in the code cell below, type '2 + 2' and run the cell."
   ]
  },
  {
   "cell_type": "code",
   "execution_count": 1,
   "metadata": {},
   "outputs": [
    {
     "data": {
      "text/html": [
       "4"
      ],
      "text/latex": [
       "4"
      ],
      "text/markdown": [
       "4"
      ],
      "text/plain": [
       "[1] 4"
      ]
     },
     "metadata": {},
     "output_type": "display_data"
    }
   ],
   "source": [
    "2+2"
   ]
  },
  {
   "cell_type": "markdown",
   "metadata": {},
   "source": [
    "**R** took our code as input, and spit out the result - in this case the value of our summation, 4. "
   ]
  },
  {
   "cell_type": "markdown",
   "metadata": {},
   "source": [
    "### R Basics\n",
    "\n",
    "*Note of caution:* **R** is a stickler for typos. Precise syntax is essential. Capital letters, commas, or parentheses must be in the correct place. Any deviation from required syntax will lead your code to either fail or  produce unintended (and incorrect) results. You will spare yourself a lot of aggravation if you take the time to go slowly and carefully as you’re getting started until you have gotten more familiar with the commands and their required syntax."
   ]
  },
  {
   "cell_type": "markdown",
   "metadata": {},
   "source": [
    "### Packages, Libraries, and Paths \n",
    "\n",
    "One of **R**’s best features is that it’s based on packages. Base **R** does have some stats functions, but **R** plus packages is incredibly powerful. Nearly any time you do anything in **R**, you’ll be using functions contained within a package. \n",
    "\n",
    "Every time we want to use a function contained in a package, we must first call that package using the `library()` function. For example, we can load the **haven** package by typing and running the command `library(haven)` in the below cell:"
   ]
  },
  {
   "cell_type": "code",
   "execution_count": 35,
   "metadata": {},
   "outputs": [],
   "source": [
    "library(haven)"
   ]
  },
  {
   "cell_type": "markdown",
   "metadata": {},
   "source": [
    "The package was loaded correctly in the background. Since there was no output to display nor an error to show, we received no input. We can confirm that the package was loaded correctly by running the `sessionInfo()` function below. "
   ]
  },
  {
   "cell_type": "code",
   "execution_count": 2,
   "metadata": {},
   "outputs": [
    {
     "data": {
      "text/plain": [
       "R version 3.4.4 (2018-03-15)\n",
       "Platform: x86_64-pc-linux-gnu (64-bit)\n",
       "Running under: Ubuntu 18.04.5 LTS\n",
       "\n",
       "Matrix products: default\n",
       "BLAS: /usr/lib/x86_64-linux-gnu/blas/libblas.so.3.7.1\n",
       "LAPACK: /usr/lib/x86_64-linux-gnu/lapack/liblapack.so.3.7.1\n",
       "\n",
       "locale:\n",
       " [1] LC_CTYPE=en_US.UTF-8       LC_NUMERIC=C              \n",
       " [3] LC_TIME=en_US.UTF-8        LC_COLLATE=en_US.UTF-8    \n",
       " [5] LC_MONETARY=en_US.UTF-8    LC_MESSAGES=en_US.UTF-8   \n",
       " [7] LC_PAPER=en_US.UTF-8       LC_NAME=C                 \n",
       " [9] LC_ADDRESS=C               LC_TELEPHONE=C            \n",
       "[11] LC_MEASUREMENT=en_US.UTF-8 LC_IDENTIFICATION=C       \n",
       "\n",
       "attached base packages:\n",
       "[1] stats     graphics  grDevices utils     datasets  methods   base     \n",
       "\n",
       "other attached packages:\n",
       "[1] haven_1.1.1\n",
       "\n",
       "loaded via a namespace (and not attached):\n",
       " [1] Rcpp_1.0.5      digest_0.6.25   crayon_1.3.4    IRdisplay_0.7.0\n",
       " [5] repr_1.1.0      lifecycle_0.2.0 jsonlite_1.7.0  magrittr_1.5   \n",
       " [9] evaluate_0.14   pillar_1.4.6    rlang_0.4.7     uuid_0.1-2     \n",
       "[13] vctrs_0.3.2     ellipsis_0.3.1  IRkernel_0.8.15 forcats_0.3.0  \n",
       "[17] tools_3.4.4     compiler_3.4.4  pkgconfig_2.0.3 base64enc_0.1-3\n",
       "[21] htmltools_0.5.0 pbdZMQ_0.3-2    tibble_3.0.3   "
      ]
     },
     "metadata": {},
     "output_type": "display_data"
    }
   ],
   "source": [
    "sessionInfo()"
   ]
  },
  {
   "cell_type": "markdown",
   "metadata": {},
   "source": [
    "This shows us information about our **R** version, local settings, active packages, ones we've manually loaded, and others that are loaded through our system. \n",
    "\n",
    "If we had written the package name wrong, and instead tried to load a nonexistent package \"hevon\", we would receive an error in the notebook:"
   ]
  },
  {
   "cell_type": "code",
   "execution_count": 3,
   "metadata": {},
   "outputs": [
    {
     "ename": "ERROR",
     "evalue": "Error in library(hevon): there is no package called ‘hevon’\n",
     "output_type": "error",
     "traceback": [
      "Error in library(hevon): there is no package called ‘hevon’\nTraceback:\n",
      "1. library(hevon)",
      "2. stop(txt, domain = NA)"
     ]
    }
   ],
   "source": [
    "library(hevon)"
   ]
  },
  {
   "cell_type": "markdown",
   "metadata": {},
   "source": [
    "### Paths\n",
    "\n",
    "When we start loading in data files we will need to account for the location of files in our file paths. **R** handles paths by basing itself in the *working directory*, and all file paths are defined relative to that working directory.\n",
    "\n",
    "We can view the working directory by using the `getwd()` function."
   ]
  },
  {
   "cell_type": "code",
   "execution_count": 4,
   "metadata": {},
   "outputs": [
    {
     "data": {
      "text/html": [
       "'/home/jovyan/ENVECON-118-FA20/Coding Resources'"
      ],
      "text/latex": [
       "'/home/jovyan/ENVECON-118-FA20/Coding Resources'"
      ],
      "text/markdown": [
       "'/home/jovyan/ENVECON-118-FA20/Coding Resources'"
      ],
      "text/plain": [
       "[1] \"/home/jovyan/ENVECON-118-FA20/Coding Resources\""
      ]
     },
     "metadata": {},
     "output_type": "display_data"
    }
   ],
   "source": [
    "getwd()"
   ]
  },
  {
   "cell_type": "markdown",
   "metadata": {},
   "source": [
    "The above path is the same as the folder our linked opened to. When calling files, we will start our paths in this folder - if the file is located in the same folder as our notebook, we do not need to include all the \"/home/rstudio...\" path, and instead can reference it by name. If the file we want to reference (let's call it *enviro.csv*) is in a subfolder (say called *Data*), we will need to include that subfolder in our path: \"Data/enviro.csv\"\n",
    "\n",
    "We'll deal more with working directories once we move into **RStudio** - for now all the files we need will be in the same folder as our template, so we can call the files directly by name."
   ]
  },
  {
   "cell_type": "markdown",
   "metadata": {
    "deletable": false
   },
   "source": [
    "### Loading Files in R\n",
    "\n",
    "We're going to read in our data, but before we can read in our dataset we should refresh ourselves on what the file is called. To do this, we can use the `list.files()` command to see all the files in our current working directory."
   ]
  },
  {
   "cell_type": "code",
   "execution_count": 5,
   "metadata": {
    "deletable": false
   },
   "outputs": [
    {
     "data": {
      "text/html": [
       "<style>\n",
       ".list-inline {list-style: none; margin:0; padding: 0}\n",
       ".list-inline>li {display: inline-block}\n",
       ".list-inline>li:not(:last-child)::after {content: \"\\00b7\"; padding: 0 .5ex}\n",
       "</style>\n",
       "<ol class=list-inline><li>'autos.csv'</li><li>'autos.dta'</li><li>'Coding Bootcamp Session.ipynb'</li><li>'images'</li></ol>\n"
      ],
      "text/latex": [
       "\\begin{enumerate*}\n",
       "\\item 'autos.csv'\n",
       "\\item 'autos.dta'\n",
       "\\item 'Coding Bootcamp Session.ipynb'\n",
       "\\item 'images'\n",
       "\\end{enumerate*}\n"
      ],
      "text/markdown": [
       "1. 'autos.csv'\n",
       "2. 'autos.dta'\n",
       "3. 'Coding Bootcamp Session.ipynb'\n",
       "4. 'images'\n",
       "\n",
       "\n"
      ],
      "text/plain": [
       "[1] \"autos.csv\"                     \"autos.dta\"                    \n",
       "[3] \"Coding Bootcamp Session.ipynb\" \"images\"                       "
      ]
     },
     "metadata": {},
     "output_type": "display_data"
    }
   ],
   "source": [
    "list.files()"
   ]
  },
  {
   "cell_type": "markdown",
   "metadata": {
    "deletable": false
   },
   "source": [
    "The file we're interested in first is the **autos.dta** file. Since this is a stata-formatted file (.dta), we'll need to use the `read_dta()` function in the **haven** package (which we already loaded). To use the function we need to include the filename with quotes in the parentheses: `read_dta(\"autos.dta\")`. \n",
    "\n",
    "Here we run into an important feature about **R**: when we load a dataset or want to store an object to memory (such that we can do things with it later), we have to *assign it a name*. To do this, we use the syntax\n",
    "\n",
    "` name <- function(arguments)`\n",
    "\n",
    "The arrow tells us we are assigning the output of the function (given the function's arguments/inputs) to *name*. The arrow is read as \"gets,\" so if we wanted to store a vector of integers between 1 through 10 as `integers` using the command\n",
    "\n",
    "` integers <- 1:10`\n",
    "\n",
    "We read it as \"integers 'gets' 1 through 10.\"\n",
    "\n",
    "Okay, let's load in the **autos** data and save it to the object `carsdata`:"
   ]
  },
  {
   "cell_type": "code",
   "execution_count": 36,
   "metadata": {
    "deletable": false
   },
   "outputs": [],
   "source": [
    "#Uncomment to run\n",
    "#carsdata<-read_dta(\"autos.dta\")"
   ]
  },
  {
   "cell_type": "markdown",
   "metadata": {
    "deletable": false
   },
   "source": [
    "The dataset has now been stored to memory under the name `carsdata`. To view it in our notebook, we can just type the name and hit run... or if we want to view only the first few lines of the dataset we can use the `head()` command to see only a few observations."
   ]
  },
  {
   "cell_type": "code",
   "execution_count": null,
   "metadata": {
    "deletable": false
   },
   "outputs": [],
   "source": []
  },
  {
   "cell_type": "markdown",
   "metadata": {
    "deletable": false
   },
   "source": [
    "The very first bit of information tells us the format of the data (data frame). The first row tells us the variable names, and the second row tells us the variable type (character string or type of numeric variable). Each row in the table is a different observation - here giving us info on a car make and model, its price, mpg, and other characteristics.\n",
    "\n",
    "If we forget the info in our dataframe, we can check the names of the variables:"
   ]
  },
  {
   "cell_type": "code",
   "execution_count": 33,
   "metadata": {},
   "outputs": [],
   "source": [
    "##Uncomment to run\n",
    "#names(carsdata)"
   ]
  },
  {
   "cell_type": "markdown",
   "metadata": {
    "deletable": false
   },
   "source": [
    "If we want to interact with just one column of our data frame, we can refer to it using the `$` command. This is useful if we're interested in, say, obtaining the mean of only miles per gallon for the cars in our sample."
   ]
  },
  {
   "cell_type": "code",
   "execution_count": 34,
   "metadata": {
    "deletable": false
   },
   "outputs": [],
   "source": [
    "#Uncomment to run\n",
    "#avg_mpg <- mean(carsdata$mpg)\n",
    "#avg_mpg"
   ]
  },
  {
   "cell_type": "markdown",
   "metadata": {},
   "source": [
    "#### Other File Formats\n",
    "If we wanted to load a .csv file, we'd want to use the `read.csv()` command to load it, once again using quotation marks around the file name and assigning it a name."
   ]
  },
  {
   "cell_type": "markdown",
   "metadata": {
    "deletable": false
   },
   "source": [
    "### Manipulating Data Frames\n",
    "\n",
    "We have a lot of flexibility to select certain observations, certain variables, or certain values within our data frame. We can also perform a lot of operations to variables - change their values or create new variables. One of the packages we'll be using for this is the **tidyverse** package. It's actually a collection of packages designed for data science, and includes a number that we'll use throughout this term. \n",
    "\n",
    "To start, let's load **tidyverse** and use it to perform transformations on our dataset."
   ]
  },
  {
   "cell_type": "code",
   "execution_count": 37,
   "metadata": {
    "deletable": false
   },
   "outputs": [
    {
     "data": {
      "text/html": [
       "<table>\n",
       "<caption>A tibble: 6 × 12</caption>\n",
       "<thead>\n",
       "\t<tr><th scope=col>make</th><th scope=col>price</th><th scope=col>mpg</th><th scope=col>rep78</th><th scope=col>headroom</th><th scope=col>trunk</th><th scope=col>weight</th><th scope=col>length</th><th scope=col>turn</th><th scope=col>displacement</th><th scope=col>gear_ratio</th><th scope=col>foreign</th></tr>\n",
       "\t<tr><th scope=col>&lt;chr&gt;</th><th scope=col>&lt;dbl&gt;</th><th scope=col>&lt;dbl&gt;</th><th scope=col>&lt;dbl&gt;</th><th scope=col>&lt;dbl&gt;</th><th scope=col>&lt;dbl&gt;</th><th scope=col>&lt;dbl&gt;</th><th scope=col>&lt;dbl&gt;</th><th scope=col>&lt;dbl&gt;</th><th scope=col>&lt;dbl&gt;</th><th scope=col>&lt;dbl&gt;</th><th scope=col>&lt;dbl+lbl&gt;</th></tr>\n",
       "</thead>\n",
       "<tbody>\n",
       "\t<tr><td>AMC Concord  </td><td>4099</td><td>22</td><td> 3</td><td>2.5</td><td>11</td><td>2930</td><td>186</td><td>40</td><td>121</td><td>3.58</td><td>0</td></tr>\n",
       "\t<tr><td>AMC Pacer    </td><td>4749</td><td>17</td><td> 3</td><td>3.0</td><td>11</td><td>3350</td><td>173</td><td>40</td><td>258</td><td>2.53</td><td>0</td></tr>\n",
       "\t<tr><td>AMC Spirit   </td><td>3799</td><td>22</td><td>NA</td><td>3.0</td><td>12</td><td>2640</td><td>168</td><td>35</td><td>121</td><td>3.08</td><td>0</td></tr>\n",
       "\t<tr><td>Buick Century</td><td>4816</td><td>20</td><td> 3</td><td>4.5</td><td>16</td><td>3250</td><td>196</td><td>40</td><td>196</td><td>2.93</td><td>0</td></tr>\n",
       "\t<tr><td>Buick Electra</td><td>7827</td><td>15</td><td> 4</td><td>4.0</td><td>20</td><td>4080</td><td>222</td><td>43</td><td>350</td><td>2.41</td><td>0</td></tr>\n",
       "\t<tr><td>Buick LeSabre</td><td>5788</td><td>18</td><td> 3</td><td>4.0</td><td>21</td><td>3670</td><td>218</td><td>43</td><td>231</td><td>2.73</td><td>0</td></tr>\n",
       "</tbody>\n",
       "</table>\n"
      ],
      "text/latex": [
       "A tibble: 6 × 12\n",
       "\\begin{tabular}{llllllllllll}\n",
       " make & price & mpg & rep78 & headroom & trunk & weight & length & turn & displacement & gear\\_ratio & foreign\\\\\n",
       " <chr> & <dbl> & <dbl> & <dbl> & <dbl> & <dbl> & <dbl> & <dbl> & <dbl> & <dbl> & <dbl> & <dbl+lbl>\\\\\n",
       "\\hline\n",
       "\t AMC Concord   & 4099 & 22 &  3 & 2.5 & 11 & 2930 & 186 & 40 & 121 & 3.58 & 0\\\\\n",
       "\t AMC Pacer     & 4749 & 17 &  3 & 3.0 & 11 & 3350 & 173 & 40 & 258 & 2.53 & 0\\\\\n",
       "\t AMC Spirit    & 3799 & 22 & NA & 3.0 & 12 & 2640 & 168 & 35 & 121 & 3.08 & 0\\\\\n",
       "\t Buick Century & 4816 & 20 &  3 & 4.5 & 16 & 3250 & 196 & 40 & 196 & 2.93 & 0\\\\\n",
       "\t Buick Electra & 7827 & 15 &  4 & 4.0 & 20 & 4080 & 222 & 43 & 350 & 2.41 & 0\\\\\n",
       "\t Buick LeSabre & 5788 & 18 &  3 & 4.0 & 21 & 3670 & 218 & 43 & 231 & 2.73 & 0\\\\\n",
       "\\end{tabular}\n"
      ],
      "text/markdown": [
       "\n",
       "A tibble: 6 × 12\n",
       "\n",
       "| make &lt;chr&gt; | price &lt;dbl&gt; | mpg &lt;dbl&gt; | rep78 &lt;dbl&gt; | headroom &lt;dbl&gt; | trunk &lt;dbl&gt; | weight &lt;dbl&gt; | length &lt;dbl&gt; | turn &lt;dbl&gt; | displacement &lt;dbl&gt; | gear_ratio &lt;dbl&gt; | foreign &lt;dbl+lbl&gt; |\n",
       "|---|---|---|---|---|---|---|---|---|---|---|---|\n",
       "| AMC Concord   | 4099 | 22 |  3 | 2.5 | 11 | 2930 | 186 | 40 | 121 | 3.58 | 0 |\n",
       "| AMC Pacer     | 4749 | 17 |  3 | 3.0 | 11 | 3350 | 173 | 40 | 258 | 2.53 | 0 |\n",
       "| AMC Spirit    | 3799 | 22 | NA | 3.0 | 12 | 2640 | 168 | 35 | 121 | 3.08 | 0 |\n",
       "| Buick Century | 4816 | 20 |  3 | 4.5 | 16 | 3250 | 196 | 40 | 196 | 2.93 | 0 |\n",
       "| Buick Electra | 7827 | 15 |  4 | 4.0 | 20 | 4080 | 222 | 43 | 350 | 2.41 | 0 |\n",
       "| Buick LeSabre | 5788 | 18 |  3 | 4.0 | 21 | 3670 | 218 | 43 | 231 | 2.73 | 0 |\n",
       "\n"
      ],
      "text/plain": [
       "  make          price mpg rep78 headroom trunk weight length turn displacement\n",
       "1 AMC Concord   4099  22   3    2.5      11    2930   186    40   121         \n",
       "2 AMC Pacer     4749  17   3    3.0      11    3350   173    40   258         \n",
       "3 AMC Spirit    3799  22  NA    3.0      12    2640   168    35   121         \n",
       "4 Buick Century 4816  20   3    4.5      16    3250   196    40   196         \n",
       "5 Buick Electra 7827  15   4    4.0      20    4080   222    43   350         \n",
       "6 Buick LeSabre 5788  18   3    4.0      21    3670   218    43   231         \n",
       "  gear_ratio foreign\n",
       "1 3.58       0      \n",
       "2 2.53       0      \n",
       "3 3.08       0      \n",
       "4 2.93       0      \n",
       "5 2.41       0      \n",
       "6 2.73       0      "
      ]
     },
     "metadata": {},
     "output_type": "display_data"
    },
    {
     "data": {
      "text/html": [
       "<table>\n",
       "<caption>A tibble: 6 × 12</caption>\n",
       "<thead>\n",
       "\t<tr><th scope=col>make</th><th scope=col>price</th><th scope=col>mpg</th><th scope=col>rep78</th><th scope=col>headroom</th><th scope=col>trunk</th><th scope=col>weight</th><th scope=col>length</th><th scope=col>turn</th><th scope=col>displacement</th><th scope=col>gear_ratio</th><th scope=col>foreign</th></tr>\n",
       "\t<tr><th scope=col>&lt;chr&gt;</th><th scope=col>&lt;dbl&gt;</th><th scope=col>&lt;dbl&gt;</th><th scope=col>&lt;dbl&gt;</th><th scope=col>&lt;dbl&gt;</th><th scope=col>&lt;dbl&gt;</th><th scope=col>&lt;dbl&gt;</th><th scope=col>&lt;dbl&gt;</th><th scope=col>&lt;dbl&gt;</th><th scope=col>&lt;dbl&gt;</th><th scope=col>&lt;dbl&gt;</th><th scope=col>&lt;dbl+lbl&gt;</th></tr>\n",
       "</thead>\n",
       "<tbody>\n",
       "\t<tr><td>BMW 320i     </td><td>9735</td><td>25</td><td>4</td><td>2.5</td><td>12</td><td>2650</td><td>177</td><td>34</td><td>121</td><td>3.64</td><td>1</td></tr>\n",
       "\t<tr><td>Audi 5000    </td><td>9690</td><td>17</td><td>5</td><td>3.0</td><td>15</td><td>2830</td><td>189</td><td>37</td><td>131</td><td>3.20</td><td>1</td></tr>\n",
       "\t<tr><td>Olds 98      </td><td>8814</td><td>21</td><td>4</td><td>4.0</td><td>20</td><td>4060</td><td>220</td><td>43</td><td>350</td><td>2.41</td><td>0</td></tr>\n",
       "\t<tr><td>Datsun 810   </td><td>8129</td><td>21</td><td>4</td><td>2.5</td><td> 8</td><td>2750</td><td>184</td><td>38</td><td>146</td><td>3.55</td><td>1</td></tr>\n",
       "\t<tr><td>Buick Electra</td><td>7827</td><td>15</td><td>4</td><td>4.0</td><td>20</td><td>4080</td><td>222</td><td>43</td><td>350</td><td>2.41</td><td>0</td></tr>\n",
       "\t<tr><td>VW Dasher    </td><td>7140</td><td>23</td><td>4</td><td>2.5</td><td>12</td><td>2160</td><td>172</td><td>36</td><td> 97</td><td>3.74</td><td>1</td></tr>\n",
       "</tbody>\n",
       "</table>\n"
      ],
      "text/latex": [
       "A tibble: 6 × 12\n",
       "\\begin{tabular}{llllllllllll}\n",
       " make & price & mpg & rep78 & headroom & trunk & weight & length & turn & displacement & gear\\_ratio & foreign\\\\\n",
       " <chr> & <dbl> & <dbl> & <dbl> & <dbl> & <dbl> & <dbl> & <dbl> & <dbl> & <dbl> & <dbl> & <dbl+lbl>\\\\\n",
       "\\hline\n",
       "\t BMW 320i      & 9735 & 25 & 4 & 2.5 & 12 & 2650 & 177 & 34 & 121 & 3.64 & 1\\\\\n",
       "\t Audi 5000     & 9690 & 17 & 5 & 3.0 & 15 & 2830 & 189 & 37 & 131 & 3.20 & 1\\\\\n",
       "\t Olds 98       & 8814 & 21 & 4 & 4.0 & 20 & 4060 & 220 & 43 & 350 & 2.41 & 0\\\\\n",
       "\t Datsun 810    & 8129 & 21 & 4 & 2.5 &  8 & 2750 & 184 & 38 & 146 & 3.55 & 1\\\\\n",
       "\t Buick Electra & 7827 & 15 & 4 & 4.0 & 20 & 4080 & 222 & 43 & 350 & 2.41 & 0\\\\\n",
       "\t VW Dasher     & 7140 & 23 & 4 & 2.5 & 12 & 2160 & 172 & 36 &  97 & 3.74 & 1\\\\\n",
       "\\end{tabular}\n"
      ],
      "text/markdown": [
       "\n",
       "A tibble: 6 × 12\n",
       "\n",
       "| make &lt;chr&gt; | price &lt;dbl&gt; | mpg &lt;dbl&gt; | rep78 &lt;dbl&gt; | headroom &lt;dbl&gt; | trunk &lt;dbl&gt; | weight &lt;dbl&gt; | length &lt;dbl&gt; | turn &lt;dbl&gt; | displacement &lt;dbl&gt; | gear_ratio &lt;dbl&gt; | foreign &lt;dbl+lbl&gt; |\n",
       "|---|---|---|---|---|---|---|---|---|---|---|---|\n",
       "| BMW 320i      | 9735 | 25 | 4 | 2.5 | 12 | 2650 | 177 | 34 | 121 | 3.64 | 1 |\n",
       "| Audi 5000     | 9690 | 17 | 5 | 3.0 | 15 | 2830 | 189 | 37 | 131 | 3.20 | 1 |\n",
       "| Olds 98       | 8814 | 21 | 4 | 4.0 | 20 | 4060 | 220 | 43 | 350 | 2.41 | 0 |\n",
       "| Datsun 810    | 8129 | 21 | 4 | 2.5 |  8 | 2750 | 184 | 38 | 146 | 3.55 | 1 |\n",
       "| Buick Electra | 7827 | 15 | 4 | 4.0 | 20 | 4080 | 222 | 43 | 350 | 2.41 | 0 |\n",
       "| VW Dasher     | 7140 | 23 | 4 | 2.5 | 12 | 2160 | 172 | 36 |  97 | 3.74 | 1 |\n",
       "\n"
      ],
      "text/plain": [
       "  make          price mpg rep78 headroom trunk weight length turn displacement\n",
       "1 BMW 320i      9735  25  4     2.5      12    2650   177    34   121         \n",
       "2 Audi 5000     9690  17  5     3.0      15    2830   189    37   131         \n",
       "3 Olds 98       8814  21  4     4.0      20    4060   220    43   350         \n",
       "4 Datsun 810    8129  21  4     2.5       8    2750   184    38   146         \n",
       "5 Buick Electra 7827  15  4     4.0      20    4080   222    43   350         \n",
       "6 VW Dasher     7140  23  4     2.5      12    2160   172    36    97         \n",
       "  gear_ratio foreign\n",
       "1 3.64       1      \n",
       "2 3.20       1      \n",
       "3 2.41       0      \n",
       "4 3.55       1      \n",
       "5 2.41       0      \n",
       "6 3.74       1      "
      ]
     },
     "metadata": {},
     "output_type": "display_data"
    },
    {
     "data": {
      "text/html": [
       "<table>\n",
       "<caption>A tibble: 6 × 4</caption>\n",
       "<thead>\n",
       "\t<tr><th scope=col>make</th><th scope=col>price</th><th scope=col>mpg</th><th scope=col>weight</th></tr>\n",
       "\t<tr><th scope=col>&lt;chr&gt;</th><th scope=col>&lt;dbl&gt;</th><th scope=col>&lt;dbl&gt;</th><th scope=col>&lt;dbl&gt;</th></tr>\n",
       "</thead>\n",
       "<tbody>\n",
       "\t<tr><td>BMW 320i     </td><td>9735</td><td>25</td><td>2650</td></tr>\n",
       "\t<tr><td>Audi 5000    </td><td>9690</td><td>17</td><td>2830</td></tr>\n",
       "\t<tr><td>Olds 98      </td><td>8814</td><td>21</td><td>4060</td></tr>\n",
       "\t<tr><td>Datsun 810   </td><td>8129</td><td>21</td><td>2750</td></tr>\n",
       "\t<tr><td>Buick Electra</td><td>7827</td><td>15</td><td>4080</td></tr>\n",
       "\t<tr><td>VW Dasher    </td><td>7140</td><td>23</td><td>2160</td></tr>\n",
       "</tbody>\n",
       "</table>\n"
      ],
      "text/latex": [
       "A tibble: 6 × 4\n",
       "\\begin{tabular}{llll}\n",
       " make & price & mpg & weight\\\\\n",
       " <chr> & <dbl> & <dbl> & <dbl>\\\\\n",
       "\\hline\n",
       "\t BMW 320i      & 9735 & 25 & 2650\\\\\n",
       "\t Audi 5000     & 9690 & 17 & 2830\\\\\n",
       "\t Olds 98       & 8814 & 21 & 4060\\\\\n",
       "\t Datsun 810    & 8129 & 21 & 2750\\\\\n",
       "\t Buick Electra & 7827 & 15 & 4080\\\\\n",
       "\t VW Dasher     & 7140 & 23 & 2160\\\\\n",
       "\\end{tabular}\n"
      ],
      "text/markdown": [
       "\n",
       "A tibble: 6 × 4\n",
       "\n",
       "| make &lt;chr&gt; | price &lt;dbl&gt; | mpg &lt;dbl&gt; | weight &lt;dbl&gt; |\n",
       "|---|---|---|---|\n",
       "| BMW 320i      | 9735 | 25 | 2650 |\n",
       "| Audi 5000     | 9690 | 17 | 2830 |\n",
       "| Olds 98       | 8814 | 21 | 4060 |\n",
       "| Datsun 810    | 8129 | 21 | 2750 |\n",
       "| Buick Electra | 7827 | 15 | 4080 |\n",
       "| VW Dasher     | 7140 | 23 | 2160 |\n",
       "\n"
      ],
      "text/plain": [
       "  make          price mpg weight\n",
       "1 BMW 320i      9735  25  2650  \n",
       "2 Audi 5000     9690  17  2830  \n",
       "3 Olds 98       8814  21  4060  \n",
       "4 Datsun 810    8129  21  2750  \n",
       "5 Buick Electra 7827  15  4080  \n",
       "6 VW Dasher     7140  23  2160  "
      ]
     },
     "metadata": {},
     "output_type": "display_data"
    }
   ],
   "source": [
    "library(tidyverse)\n",
    "\n",
    "carsdata_low_price <- filter(carsdata, price <= 10000)\n",
    "head(carsdata_low_price)\n",
    "\n",
    "carsdata_low_price <- arrange(carsdata_low_price, desc(price))\n",
    "head(carsdata_low_price)\n",
    "\n",
    "carsdata_low_price <- select(carsdata_low_price, make, price, mpg, weight)\n",
    "head(carsdata_low_price)"
   ]
  },
  {
   "cell_type": "markdown",
   "metadata": {
    "deletable": false
   },
   "source": [
    "Phew, that was a lot of stuff! Let's back up and work through it.\n",
    "\n",
    "The first thing we did after loading the **tidyverse** package was to `filter()` our data frame. Here we are selecting only the observations with price less than or equal to $10,000. We save this to the new `carsdata_low_price` object.\n",
    "\n",
    "Next, we arrange the new `carsdata_low_price` data frame in descending order of price using the `arrange()` function and overwrite our `carsdata_low_price` with this new arrangement.\n",
    "\n",
    "Finally, we `select()` only a few variables - here we choose to keep just vehicle make, price, and miles per gallon - and once again overwrite our `carsdata_low_price` object.\n",
    "\n",
    "Now we'll create new versions of our variables using the `mutate()` command. If I wanted to rescale price to be in units of $1,000, we can do this by typing"
   ]
  },
  {
   "cell_type": "code",
   "execution_count": 38,
   "metadata": {},
   "outputs": [
    {
     "data": {
      "text/html": [
       "<table>\n",
       "<caption>A tibble: 6 × 5</caption>\n",
       "<thead>\n",
       "\t<tr><th scope=col>make</th><th scope=col>price</th><th scope=col>mpg</th><th scope=col>weight</th><th scope=col>price_thousand</th></tr>\n",
       "\t<tr><th scope=col>&lt;chr&gt;</th><th scope=col>&lt;dbl&gt;</th><th scope=col>&lt;dbl&gt;</th><th scope=col>&lt;dbl&gt;</th><th scope=col>&lt;dbl&gt;</th></tr>\n",
       "</thead>\n",
       "<tbody>\n",
       "\t<tr><td>BMW 320i     </td><td>9735</td><td>25</td><td>2650</td><td>9.735</td></tr>\n",
       "\t<tr><td>Audi 5000    </td><td>9690</td><td>17</td><td>2830</td><td>9.690</td></tr>\n",
       "\t<tr><td>Olds 98      </td><td>8814</td><td>21</td><td>4060</td><td>8.814</td></tr>\n",
       "\t<tr><td>Datsun 810   </td><td>8129</td><td>21</td><td>2750</td><td>8.129</td></tr>\n",
       "\t<tr><td>Buick Electra</td><td>7827</td><td>15</td><td>4080</td><td>7.827</td></tr>\n",
       "\t<tr><td>VW Dasher    </td><td>7140</td><td>23</td><td>2160</td><td>7.140</td></tr>\n",
       "</tbody>\n",
       "</table>\n"
      ],
      "text/latex": [
       "A tibble: 6 × 5\n",
       "\\begin{tabular}{lllll}\n",
       " make & price & mpg & weight & price\\_thousand\\\\\n",
       " <chr> & <dbl> & <dbl> & <dbl> & <dbl>\\\\\n",
       "\\hline\n",
       "\t BMW 320i      & 9735 & 25 & 2650 & 9.735\\\\\n",
       "\t Audi 5000     & 9690 & 17 & 2830 & 9.690\\\\\n",
       "\t Olds 98       & 8814 & 21 & 4060 & 8.814\\\\\n",
       "\t Datsun 810    & 8129 & 21 & 2750 & 8.129\\\\\n",
       "\t Buick Electra & 7827 & 15 & 4080 & 7.827\\\\\n",
       "\t VW Dasher     & 7140 & 23 & 2160 & 7.140\\\\\n",
       "\\end{tabular}\n"
      ],
      "text/markdown": [
       "\n",
       "A tibble: 6 × 5\n",
       "\n",
       "| make &lt;chr&gt; | price &lt;dbl&gt; | mpg &lt;dbl&gt; | weight &lt;dbl&gt; | price_thousand &lt;dbl&gt; |\n",
       "|---|---|---|---|---|\n",
       "| BMW 320i      | 9735 | 25 | 2650 | 9.735 |\n",
       "| Audi 5000     | 9690 | 17 | 2830 | 9.690 |\n",
       "| Olds 98       | 8814 | 21 | 4060 | 8.814 |\n",
       "| Datsun 810    | 8129 | 21 | 2750 | 8.129 |\n",
       "| Buick Electra | 7827 | 15 | 4080 | 7.827 |\n",
       "| VW Dasher     | 7140 | 23 | 2160 | 7.140 |\n",
       "\n"
      ],
      "text/plain": [
       "  make          price mpg weight price_thousand\n",
       "1 BMW 320i      9735  25  2650   9.735         \n",
       "2 Audi 5000     9690  17  2830   9.690         \n",
       "3 Olds 98       8814  21  4060   8.814         \n",
       "4 Datsun 810    8129  21  2750   8.129         \n",
       "5 Buick Electra 7827  15  4080   7.827         \n",
       "6 VW Dasher     7140  23  2160   7.140         "
      ]
     },
     "metadata": {},
     "output_type": "display_data"
    }
   ],
   "source": [
    "carsdata_low_price <- mutate(carsdata_low_price, price_thousand = price/1000)\n",
    "head(carsdata_low_price)"
   ]
  },
  {
   "cell_type": "markdown",
   "metadata": {},
   "source": [
    "Here we are replacing `carsdata_low_price` object with itself after adding in a new variable names `price_thousand` that is `price` divided by 1000."
   ]
  },
  {
   "cell_type": "markdown",
   "metadata": {},
   "source": [
    "### Summarizing Variables\n",
    "\n",
    "There are a number of different ways for us to obtain information about our variables in **R**. While we saw earlier one way to directly get the mean of a variable, we could instead have used the `summarise` command, which lets us obtain a number of different statistics - either one at a time, or multiple together"
   ]
  },
  {
   "cell_type": "code",
   "execution_count": 39,
   "metadata": {},
   "outputs": [
    {
     "data": {
      "text/html": [
       "<table>\n",
       "<caption>A tibble: 1 × 1</caption>\n",
       "<thead>\n",
       "\t<tr><th scope=col>mean(mpg)</th></tr>\n",
       "\t<tr><th scope=col>&lt;dbl&gt;</th></tr>\n",
       "</thead>\n",
       "<tbody>\n",
       "\t<tr><td>22.28125</td></tr>\n",
       "</tbody>\n",
       "</table>\n"
      ],
      "text/latex": [
       "A tibble: 1 × 1\n",
       "\\begin{tabular}{l}\n",
       " mean(mpg)\\\\\n",
       " <dbl>\\\\\n",
       "\\hline\n",
       "\t 22.28125\\\\\n",
       "\\end{tabular}\n"
      ],
      "text/markdown": [
       "\n",
       "A tibble: 1 × 1\n",
       "\n",
       "| mean(mpg) &lt;dbl&gt; |\n",
       "|---|\n",
       "| 22.28125 |\n",
       "\n"
      ],
      "text/plain": [
       "  mean(mpg)\n",
       "1 22.28125 "
      ]
     },
     "metadata": {},
     "output_type": "display_data"
    },
    {
     "data": {
      "text/html": [
       "<table>\n",
       "<caption>A tibble: 1 × 3</caption>\n",
       "<thead>\n",
       "\t<tr><th scope=col>max(mpg)</th><th scope=col>min(price)</th><th scope=col>n()</th></tr>\n",
       "\t<tr><th scope=col>&lt;dbl&gt;</th><th scope=col>&lt;dbl&gt;</th><th scope=col>&lt;int&gt;</th></tr>\n",
       "</thead>\n",
       "<tbody>\n",
       "\t<tr><td>41</td><td>3291</td><td>64</td></tr>\n",
       "</tbody>\n",
       "</table>\n"
      ],
      "text/latex": [
       "A tibble: 1 × 3\n",
       "\\begin{tabular}{lll}\n",
       " max(mpg) & min(price) & n()\\\\\n",
       " <dbl> & <dbl> & <int>\\\\\n",
       "\\hline\n",
       "\t 41 & 3291 & 64\\\\\n",
       "\\end{tabular}\n"
      ],
      "text/markdown": [
       "\n",
       "A tibble: 1 × 3\n",
       "\n",
       "| max(mpg) &lt;dbl&gt; | min(price) &lt;dbl&gt; | n() &lt;int&gt; |\n",
       "|---|---|---|\n",
       "| 41 | 3291 | 64 |\n",
       "\n"
      ],
      "text/plain": [
       "  max(mpg) min(price) n()\n",
       "1 41       3291       64 "
      ]
     },
     "metadata": {},
     "output_type": "display_data"
    }
   ],
   "source": [
    "avg_mpg <- summarise(carsdata_low_price, mean(mpg))\n",
    "avg_mpg\n",
    "\n",
    "multi_stats <- summarise(carsdata_low_price, max(mpg), min(price), n())\n",
    "multi_stats"
   ]
  },
  {
   "cell_type": "markdown",
   "metadata": {},
   "source": [
    "`summarise()` is useful because we can use it to select specific summary statistics we're insterested in or create truly custom summary stats. If instead we wanted to get a bunch of basic stats all at once, we could use the `summary()` command for a given variable - say to get information on the variable `price`. We can refer to specific variables in a data frame with a `$` . So for example,  `carsdata_low_price$price`.\n",
    "\n"
   ]
  },
  {
   "cell_type": "code",
   "execution_count": 40,
   "metadata": {},
   "outputs": [
    {
     "data": {
      "text/plain": [
       "   Min. 1st Qu.  Median    Mean 3rd Qu.    Max. \n",
       "   3291    4179    4728    5159    5798    9735 "
      ]
     },
     "metadata": {},
     "output_type": "display_data"
    }
   ],
   "source": [
    "summary(carsdata_low_price$price)"
   ]
  },
  {
   "cell_type": "markdown",
   "metadata": {},
   "source": [
    "### Defining New Variables\n",
    "\n",
    "Suppose we want to add new columns to our data frame. This can be done easily, by simply defining them with our `$` notation. Suppose we want to make a new column called price_sq which is the squared price of each car. We can do so by defining `carsdata_low_price$price_sq<-` (with an appropriately defining expression on the right side). To do this, note that you can call other columns and values you already have defined or loaded in to R. R also uses most basic math symbols in the ways you would expect: `+`, `-`, `*`,`\\`, and `^`. Try it below!. Note: Be careful with order of operations and use parenthesis when necessary. "
   ]
  },
  {
   "cell_type": "code",
   "execution_count": 41,
   "metadata": {},
   "outputs": [],
   "source": [
    "carsdata_low_price$price_sq <- carsdata_low_price$price^2"
   ]
  },
  {
   "cell_type": "markdown",
   "metadata": {},
   "source": [
    "### Plotting in R\n",
    "\n",
    "Today we're going to learn how to use the basic plot function in **R**. In the coming weeks, we're going to learn **ggplot2**, a fantastic graphics package that is one of the great reasons for using **R** to produce graphics. It's syntax is a little bit more involved, so we're going to start off with some simple functions.\n",
    "\n",
    "First, we can generate a histogram of vehicle prices using the `hist()` command."
   ]
  },
  {
   "cell_type": "code",
   "execution_count": 42,
   "metadata": {},
   "outputs": [],
   "source": [
    "hist(carsdata_low_price$mpg,\n",
    "    main = \"Fuel Economy Distribution\",\n",
    "    xlab = \"Miles per Gallon\")"
   ]
  },
  {
   "cell_type": "markdown",
   "metadata": {},
   "source": [
    "We can also add a blue line of width three at the average mpg:"
   ]
  },
  {
   "cell_type": "code",
   "execution_count": 45,
   "metadata": {},
   "outputs": [],
   "source": [
    "hist(carsdata_low_price$mpg,\n",
    "    main = \"Fuel Economy Distribution\",\n",
    "    xlab = \"Miles per Gallon\")\n",
    "abline(v = avg_mpg, col = \"blue\", lwd = 3)"
   ]
  },
  {
   "cell_type": "markdown",
   "metadata": {},
   "source": [
    "We can also make a scatterplot of vehicle price and fuel efficiency using the `plot()` function."
   ]
  },
  {
   "cell_type": "code",
   "execution_count": 46,
   "metadata": {},
   "outputs": [],
   "source": [
    "plot(carsdata_low_price$mpg, carsdata_low_price$price,\n",
    "    main = \"Price vs. Fuel Efficiency\",\n",
    "    xlab = \"Miles per Gallon\",\n",
    "    ylab = \"Price ($)\")"
   ]
  },
  {
   "cell_type": "markdown",
   "metadata": {},
   "source": [
    "There seems to be a negative correlation here: the higher MPG, the lower the price. Is this potentially an SUV effect?"
   ]
  },
  {
   "cell_type": "markdown",
   "metadata": {},
   "source": [
    "### Regression\n",
    "\n",
    "Running regressions with **R** is quite easy. Later in the course we'll get into some more complex regression commands, but for now we'll stick with simple linear regression using the `lm()` command. \n",
    "\n",
    "First, let's take a step back and see how mpg and price are correlated in the data."
   ]
  },
  {
   "cell_type": "code",
   "execution_count": 47,
   "metadata": {},
   "outputs": [],
   "source": [
    "mpg_weight_cor <- cor(carsdata_low_price$mpg, carsdata_low_price$price)\n",
    "mpg_weight_cor"
   ]
  },
  {
   "cell_type": "markdown",
   "metadata": {},
   "source": [
    "What if we used a simple OLS regression instead?"
   ]
  },
  {
   "cell_type": "code",
   "execution_count": 48,
   "metadata": {},
   "outputs": [],
   "source": [
    "mpg_weight_regression <- lm(mpg ~ weight, data = carsdata_low_price)\n",
    "mpg_weight_regression"
   ]
  },
  {
   "cell_type": "markdown",
   "metadata": {},
   "source": [
    "Our `mpg_weight_regression` object contains our regression coefficients as well as a bunch of other objects, most notably residuals and fitted values."
   ]
  },
  {
   "cell_type": "code",
   "execution_count": 49,
   "metadata": {},
   "outputs": [],
   "source": [
    "head(mpg_weight_regression$fitted.values)\n",
    "mean(mpg_weight_regression$residuals)"
   ]
  },
  {
   "cell_type": "markdown",
   "metadata": {},
   "source": [
    "## Help with R\n",
    "\n",
    "\n",
    "Google is your best friend. While I will introduce you to some R commands during section, there may find that there are times where you are having trouble with a function's syntax or need a new function to perform a certain task. Asking Google, using the [R Documentation site](https://www.rdocumentation.org/) as well as [R Project Package Reference Manuals/Vignettes](https://cran.r-project.org/) for help with functions and syntax will get you quite far. If something is unclear, searching for the R task and perusing answers on [StackExchange](https://stackexchange.com/) can be a helpful resource. I will try my best to make sure homework assignments mention the functions/packages needed for a new task, and that we've at least seen them in section or lecture. "
   ]
  }
 ],
 "metadata": {
  "@webio": {
   "lastCommId": null,
   "lastKernelId": null
  },
  "kernelspec": {
   "display_name": "R",
   "language": "R",
   "name": "ir"
  },
  "language_info": {
   "codemirror_mode": "r",
   "file_extension": ".r",
   "mimetype": "text/x-r-source",
   "name": "R",
   "pygments_lexer": "r",
   "version": "3.4.4"
  },
  "toc": {
   "base_numbering": 1,
   "nav_menu": {},
   "number_sections": true,
   "sideBar": true,
   "skip_h1_title": false,
   "title_cell": "Table of Contents",
   "title_sidebar": "Contents",
   "toc_cell": false,
   "toc_position": {},
   "toc_section_display": true,
   "toc_window_display": false
  },
  "varInspector": {
   "cols": {
    "lenName": 16,
    "lenType": 16,
    "lenVar": 40
   },
   "kernels_config": {
    "python": {
     "delete_cmd_postfix": "",
     "delete_cmd_prefix": "del ",
     "library": "var_list.py",
     "varRefreshCmd": "print(var_dic_list())"
    },
    "r": {
     "delete_cmd_postfix": ") ",
     "delete_cmd_prefix": "rm(",
     "library": "var_list.r",
     "varRefreshCmd": "cat(var_dic_list()) "
    }
   },
   "types_to_exclude": [
    "module",
    "function",
    "builtin_function_or_method",
    "instance",
    "_Feature"
   ],
   "window_display": false
  }
 },
 "nbformat": 4,
 "nbformat_minor": 2
}
